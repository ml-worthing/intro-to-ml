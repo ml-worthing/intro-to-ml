{
 "cells": [
  {
   "cell_type": "markdown",
   "metadata": {},
   "source": [
    "# Print scala version used by this notebook"
   ]
  },
  {
   "cell_type": "code",
   "execution_count": 2,
   "metadata": {},
   "outputs": [
    {
     "data": {
      "text/plain": [
       "\u001b[36mlist\u001b[39m: \u001b[32mList\u001b[39m[\u001b[32mInt\u001b[39m] = \u001b[33mList\u001b[39m(\u001b[32m12\u001b[39m, \u001b[32m3\u001b[39m, \u001b[32m4\u001b[39m)"
      ]
     },
     "execution_count": 2,
     "metadata": {},
     "output_type": "execute_result"
    }
   ],
   "source": [
    "val list = List(12,3,4)"
   ]
  },
  {
   "cell_type": "code",
   "execution_count": 5,
   "metadata": {},
   "outputs": [
    {
     "name": "stdout",
     "output_type": "stream",
     "text": [
      "using scala version: 2.11.11\n"
     ]
    }
   ],
   "source": [
    "println(s\"\"\"using scala version: ${scala.util.Properties.scalaPropOrElse(\"version.number\", \"unknown\")}\"\"\")"
   ]
  },
  {
   "cell_type": "markdown",
   "metadata": {},
   "source": [
    "# Import project's library\n",
    "\n",
    "First you need to publis it into local *ivy* repository by calling \n",
    "\n",
    "```\n",
    "sbt clean test publishLocal\n",
    "```\n",
    "\n",
    "**After changes in library you need to restart kernel.**\n"
   ]
  },
  {
   "cell_type": "code",
   "execution_count": 1,
   "metadata": {},
   "outputs": [
    {
     "name": "stdout",
     "output_type": "stream",
     "text": [
      "Compiling Commons.sc\n"
     ]
    },
    {
     "data": {
      "text/plain": [
       "\u001b[32mimport \u001b[39m\u001b[36m$ivy.$                                    \n",
       "\u001b[39m\n",
       "\u001b[32mimport \u001b[39m\u001b[36m$file.$      \n",
       "\n",
       "\u001b[39m\n",
       "\u001b[36mres0_2\u001b[39m: \u001b[32mString\u001b[39m = \u001b[32m\"mlworthing package object 1\"\u001b[39m"
      ]
     },
     "execution_count": 1,
     "metadata": {},
     "output_type": "execute_result"
    }
   ],
   "source": [
    "import $ivy.`ml-worthing::introtoml:0.1-SNAPSHOT`\n",
    "import $file.Commons\n",
    "\n",
    "mlworthing.test"
   ]
  },
  {
   "cell_type": "markdown",
   "metadata": {},
   "source": [
    "## Import scala script \n",
    "** ! After changes in script you need restart kernel**\n"
   ]
  },
  {
   "cell_type": "code",
   "execution_count": 2,
   "metadata": {},
   "outputs": [
    {
     "name": "stdout",
     "output_type": "stream",
     "text": [
      "Compiling Commons.sc\n",
      "This comes from Commons.sc script 1\n"
     ]
    },
    {
     "data": {
      "text/plain": [
       "\u001b[32mimport \u001b[39m\u001b[36m$file.$      \n",
       "// import Commons._\n",
       "\u001b[39m"
      ]
     },
     "execution_count": 2,
     "metadata": {},
     "output_type": "execute_result"
    }
   ],
   "source": [
    "import $file.Commons\n",
    "// import Commons._\n",
    "Commons.test"
   ]
  },
  {
   "cell_type": "markdown",
   "metadata": {},
   "source": [
    "## showTable() - prints arrays as HTML\n"
   ]
  },
  {
   "cell_type": "code",
   "execution_count": 2,
   "metadata": {},
   "outputs": [
    {
     "data": {
      "text/html": [
       "<table>\n",
       "        <tr>\n",
       "          <th>\n",
       "            some numbers\n",
       "          </th>\n",
       "        </tr>\n",
       "        <tr><td>5.3223</td></tr><tr><td>2.343</td></tr><tr><td>4.0</td></tr><tr><td>56.0</td></tr><tr><td>7.0</td></tr><tr><td>3.0</td></tr><tr><td>4.0</td></tr><tr><td>-1.0</td></tr>\n",
       "      </table>"
      ]
     },
     "metadata": {},
     "output_type": "display_data"
    },
    {
     "data": {
      "text/html": [
       "<table>\n",
       "        <tr>\n",
       "          <th>\n",
       "          char\n",
       "        </th><th>\n",
       "          number\n",
       "        </th><th>\n",
       "          some value\n",
       "        </th>\n",
       "        </tr><tr>\n",
       "          <td>\n",
       "          99.0\n",
       "        </td><td>\n",
       "          123.0\n",
       "        </td><td>\n",
       "          0.001\n",
       "        </td>\n",
       "        </tr><tr>\n",
       "          <td>\n",
       "          98.0\n",
       "        </td><td>\n",
       "          555.0\n",
       "        </td><td>\n",
       "          0.003\n",
       "        </td>\n",
       "        </tr><tr>\n",
       "          <td>\n",
       "          101.0\n",
       "        </td><td>\n",
       "          666.0\n",
       "        </td><td>\n",
       "          0.006\n",
       "        </td>\n",
       "        </tr>\n",
       "      </table>"
      ]
     },
     "metadata": {},
     "output_type": "display_data"
    },
    {
     "data": {
      "text/plain": [
       "\u001b[32mimport \u001b[39m\u001b[36mmlworthing._\n",
       "\u001b[39m"
      ]
     },
     "execution_count": 2,
     "metadata": {},
     "output_type": "execute_result"
    }
   ],
   "source": [
    "import mlworthing._\n",
    "Array(5.3223,2.343,4,56,7,3,4.00,-1.00).showTable(\"some numbers\")\n",
    "Array(\n",
    "  Array('c', 123, 0.001),\n",
    "  Array('b', 555, 0.003),\n",
    "  Array('e', 666, 0.006)    \n",
    ").showTable(\"char\", \"number\", \"some value\")\n"
   ]
  },
  {
   "cell_type": "markdown",
   "metadata": {},
   "source": [
    "## Pipe Operator"
   ]
  },
  {
   "cell_type": "code",
   "execution_count": 8,
   "metadata": {},
   "outputs": [
    {
     "data": {
      "text/html": [
       "Worthing is awesome ❤️❤️❤️❤️❤️"
      ]
     },
     "metadata": {},
     "output_type": "display_data"
    }
   ],
   "source": [
    "\"Worthing is awesome ❤️❤️❤️❤️❤️\" |> publish.html"
   ]
  },
  {
   "cell_type": "markdown",
   "metadata": {},
   "source": [
    "## Plotting\n",
    "\n",
    "### plotty\n",
    "* https://github.com/alexarchambault/plotly-scala\n",
    "* https://alexarchambault.github.io/plotly-scala/\n",
    "\n",
    "### vegas\n",
    "* https://github.com/jupyter-scala/jupyter-scala#plotting\n",
    "* https://github.com/vegas-viz/Vegas/blob/master/notebooks/jupyter_example.ipynb"
   ]
  },
  {
   "cell_type": "code",
   "execution_count": 32,
   "metadata": {},
   "outputs": [
    {
     "data": {
      "text/html": [
       "\n",
       "      <script type=\"text/javascript\">\n",
       "        require.config({\n",
       "  paths: {\n",
       "    d3: 'https://cdnjs.cloudflare.com/ajax/libs/d3/3.5.17/d3.min',\n",
       "    plotly: 'https://cdn.plot.ly/plotly-1.12.0.min'\n",
       "  },\n",
       "\n",
       "  shim: {\n",
       "    plotly: {\n",
       "      deps: ['d3', 'jquery'],\n",
       "      exports: 'plotly'\n",
       "    }\n",
       "  }\n",
       "});\n",
       "        \n",
       "\n",
       "        require(['plotly'], function(Plotly) {\n",
       "          window.Plotly = Plotly;\n",
       "        });\n",
       "      </script>\n",
       "    "
      ]
     },
     "metadata": {},
     "output_type": "display_data"
    },
    {
     "data": {
      "text/html": [
       "<div class=\"chart\" id=\"plot-633353773\"></div>"
      ]
     },
     "metadata": {},
     "output_type": "display_data"
    },
    {
     "data": {
      "application/javascript": [
       "requirejs([\"plotly\"], function(Plotly) {\n",
       "  (function () {\n",
       "  var data0 = {\"type\":\"bar\",\"x\":[\"Banana\",\"Apple\",\"Grapefruit\"],\"y\":[10.0,8.0,15.0]};\n",
       "\n",
       "  var data = [data0];\n",
       "  var layout = {};\n",
       "\n",
       "  Plotly.plot('plot-633353773', data, layout);\n",
       "})();\n",
       "});\n",
       "      "
      ]
     },
     "metadata": {},
     "output_type": "display_data"
    },
    {
     "data": {
      "text/html": [
       "<div class=\"chart\" id=\"plot-751755693\"></div>"
      ]
     },
     "metadata": {},
     "output_type": "display_data"
    },
    {
     "data": {
      "application/javascript": [
       "requirejs([\"plotly\"], function(Plotly) {\n",
       "  (function () {\n",
       "  var data0 = {\"type\":\"scatter\",\"x\":[0.0,0.3,0.6,0.8999999999999999,1.2,1.5,1.7999999999999998,2.1,2.4,2.6999999999999997,3.0,3.3,3.5999999999999996,3.9,4.2,4.5,4.8,5.1,5.3999999999999995,5.7,6.0,6.3,6.6,6.8999999999999995,7.199999999999999,7.5,7.8,8.1,8.4,8.7,9.0,9.299999999999999,9.6,9.9],\"y\":[1.1324586193140185,1.8474369233095733,1.076863902262307,-0.6803439380394787,3.468963901704189,1.9619942836285298,3.599891281019632,6.8007999314070045,4.385777243558999,6.454292864690516,5.955095103077064,5.59925641095027,6.3759928868781985,7.566023992956338,8.184606510004194,9.470245842907625,10.64397172361715,11.253139631431317,10.23239828975905,11.404617402744098,10.820846111165896,10.831940602060783,14.763803832642829,14.56433813684948,14.418384397185402,14.3963981254599,15.948334228165486,15.022451654112267,15.257437670810502,18.379935953990024,17.21297678323226,17.496275735620205,18.19678057446513,19.69545628784463],\"mode\":\"markers\",\"name\":\"Approx twice\"};\n",
       "  var data1 = {\"type\":\"scatter\",\"x\":[0.0,0.4,0.8,1.2000000000000002,1.6,2.0,2.4000000000000004,2.8000000000000003,3.2,3.6,4.0,4.4,4.800000000000001],\"y\":[1.0,1.4918246976412703,2.225540928492468,3.320116922736548,4.953032424395115,7.38905609893065,11.023176380641601,16.444646771097048,24.53253019710934,36.598234443677974,54.598150033144215,81.45086866496807,121.51041751873485],\"mode\":\"markers\",\"name\":\"Exp\"};\n",
       "\n",
       "  var data = [data0, data1];\n",
       "  var layout = {};\n",
       "\n",
       "  Plotly.plot('plot-751755693', data, layout);\n",
       "})();\n",
       "});\n",
       "      "
      ]
     },
     "metadata": {},
     "output_type": "display_data"
    },
    {
     "data": {
      "text/plain": [
       "\u001b[32mimport \u001b[39m\u001b[36m$ivy.$                                             \n",
       "\n",
       "\u001b[39m\n",
       "\u001b[32mimport \u001b[39m\u001b[36mplotly._\n",
       "\u001b[39m\n",
       "\u001b[32mimport \u001b[39m\u001b[36mplotly.element._\n",
       "\u001b[39m\n",
       "\u001b[32mimport \u001b[39m\u001b[36mplotly.layout._\n",
       "\u001b[39m\n",
       "\u001b[32mimport \u001b[39m\u001b[36mplotly.JupyterScala._\n",
       "\u001b[39m\n",
       "\u001b[32mimport \u001b[39m\u001b[36mplotly.element.Orientation._\n",
       "\n",
       "\n",
       "\u001b[39m\n",
       "\u001b[36mres31_7\u001b[39m: {val x: Seq[String];val y: Seq[Int]} = $sess.cmd31Wrapper$Helper$$anon$1@7b8a6cf6\n",
       "\u001b[36mres31_8\u001b[39m: {val x1: scala.collection.immutable.NumericRange[Double];val y1: scala.collection.immutable.IndexedSeq[Double];val x2: scala.collection.immutable.NumericRange[Double];val y2: scala.collection.immutable.IndexedSeq[Double];val plot: Seq[plotly.Scatter]} = $sess.cmd31Wrapper$Helper$$anon$3@76a04947"
      ]
     },
     "execution_count": 32,
     "metadata": {},
     "output_type": "execute_result"
    }
   ],
   "source": [
    "import $ivy.`org.plotly-scala::plotly-jupyter-scala:0.3.1`\n",
    "\n",
    "import plotly._\n",
    "import plotly.element._\n",
    "import plotly.layout._\n",
    "import plotly.JupyterScala._\n",
    "import plotly.element.Orientation._\n",
    "\n",
    "\n",
    "plotly.JupyterScala.init()\n",
    "\n",
    "new {\n",
    "    val (x, y) = Seq(\n",
    "      \"Banana\" -> 10,\n",
    "      \"Apple\" -> 8,\n",
    "      \"Grapefruit\" -> 15\n",
    "    ).unzip\n",
    "\n",
    "    Bar(x, y).plot()\n",
    "\n",
    "}\n",
    "\n",
    "new {\n",
    "    val x1 = (0.0 to 10.0 by 0.3)\n",
    "    val y1 = x1.map(d => 2.0 * d + util.Random.nextGaussian())\n",
    "\n",
    "    val x2 = (0.0 to 5.0 by 0.4)\n",
    "    val y2 = x2.map(math.exp)\n",
    "\n",
    "    val plot = Seq(\n",
    "      Scatter(\n",
    "        x1, y1,\n",
    "        name = \"Approx twice\",\n",
    "        mode = ScatterMode(ScatterMode.Markers)\n",
    "      ),\n",
    "      Scatter(\n",
    "        x2, y2, \n",
    "        name = \"Exp\",\n",
    "        mode = ScatterMode(ScatterMode.Markers)\n",
    "\n",
    "      )\n",
    "    )\n",
    "    plot.plot()\n",
    "}\n"
   ]
  }
 ],
 "metadata": {
  "kernelspec": {
   "display_name": "Scala",
   "language": "scala",
   "name": "scala"
  },
  "language_info": {
   "codemirror_mode": "text/x-scala",
   "file_extension": ".scala",
   "mimetype": "text/x-scala",
   "name": "scala211",
   "nbconvert_exporter": "script",
   "pygments_lexer": "scala",
   "version": "2.11.11"
  }
 },
 "nbformat": 4,
 "nbformat_minor": 2
}
