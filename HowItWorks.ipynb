{
 "cells": [
  {
   "cell_type": "markdown",
   "metadata": {},
   "source": [
    "# Print scala version used by this notebook"
   ]
  },
  {
   "cell_type": "code",
   "execution_count": 1,
   "metadata": {},
   "outputs": [
    {
     "data": {
      "text/plain": [
       "\u001b[36mlist\u001b[39m: \u001b[32mList\u001b[39m[\u001b[32mInt\u001b[39m] = \u001b[33mList\u001b[39m(\u001b[32m12\u001b[39m, \u001b[32m3\u001b[39m, \u001b[32m4\u001b[39m)"
      ]
     },
     "execution_count": 1,
     "metadata": {},
     "output_type": "execute_result"
    }
   ],
   "source": [
    "val list = List(12,3,4)"
   ]
  },
  {
   "cell_type": "code",
   "execution_count": 2,
   "metadata": {},
   "outputs": [
    {
     "name": "stdout",
     "output_type": "stream",
     "text": [
      "using scala version: 2.11.11\n"
     ]
    }
   ],
   "source": [
    "println(s\"\"\"using scala version: ${scala.util.Properties.scalaPropOrElse(\"version.number\", \"unknown\")}\"\"\")"
   ]
  },
  {
   "cell_type": "markdown",
   "metadata": {},
   "source": [
    "# Import project's library\n",
    "\n",
    "First you need to publis it into local *ivy* repository by calling \n",
    "\n",
    "```\n",
    "sbt clean test publishLocal\n",
    "```\n",
    "\n",
    "**<font color='red'>! After changes in library you need to restart kernel</font>**\n"
   ]
  },
  {
   "cell_type": "code",
   "execution_count": 3,
   "metadata": {},
   "outputs": [
    {
     "name": "stdout",
     "output_type": "stream",
     "text": [
      "Compiling Commons.sc\n"
     ]
    },
    {
     "data": {
      "text/plain": [
       "\u001b[32mimport \u001b[39m\u001b[36m$ivy.$                                    \n",
       "\u001b[39m\n",
       "\u001b[32mimport \u001b[39m\u001b[36m$file.$      \n",
       "\n",
       "\u001b[39m\n",
       "\u001b[36mres2_2\u001b[39m: \u001b[32mString\u001b[39m = \u001b[32m\"mlworthing package object 2\"\u001b[39m"
      ]
     },
     "execution_count": 3,
     "metadata": {},
     "output_type": "execute_result"
    }
   ],
   "source": [
    "import $ivy.`ml-worthing::introtoml:0.1-SNAPSHOT`\n",
    "import $file.Commons\n",
    "\n",
    "mlworthing.test"
   ]
  },
  {
   "cell_type": "markdown",
   "metadata": {},
   "source": [
    "## Import scala script \n",
    "**<font color='red'>! After changes in library you need to restart kernel</font>**\n"
   ]
  },
  {
   "cell_type": "code",
   "execution_count": 4,
   "metadata": {},
   "outputs": [
    {
     "name": "stdout",
     "output_type": "stream",
     "text": [
      "Compiling Commons.sc\n",
      "This comes from Commons.sc script 1\n"
     ]
    },
    {
     "data": {
      "text/plain": [
       "\u001b[32mimport \u001b[39m\u001b[36m$file.$      \n",
       "// import Commons._\n",
       "\u001b[39m"
      ]
     },
     "execution_count": 4,
     "metadata": {},
     "output_type": "execute_result"
    }
   ],
   "source": [
    "import $file.Commons\n",
    "// import Commons._\n",
    "Commons.test"
   ]
  },
  {
   "cell_type": "markdown",
   "metadata": {},
   "source": [
    "## showTable() - prints arrays as HTML\n"
   ]
  },
  {
   "cell_type": "code",
   "execution_count": 5,
   "metadata": {},
   "outputs": [
    {
     "data": {
      "text/html": [
       "<table>\n",
       "        <tr>\n",
       "          <th>\n",
       "            some numbers\n",
       "          </th>\n",
       "        </tr>\n",
       "        <tr><td>5.3223</td></tr><tr><td>2.343</td></tr><tr><td>4.0</td></tr><tr><td>56.0</td></tr><tr><td>7.0</td></tr><tr><td>3.0</td></tr><tr><td>4.0</td></tr><tr><td>-1.0</td></tr>\n",
       "      </table>"
      ]
     },
     "metadata": {},
     "output_type": "display_data"
    },
    {
     "data": {
      "text/html": [
       "<table>\n",
       "        <tr>\n",
       "          <th>\n",
       "          char\n",
       "        </th><th>\n",
       "          number\n",
       "        </th><th>\n",
       "          some value\n",
       "        </th>\n",
       "        </tr><tr>\n",
       "          <td>\n",
       "          99.0\n",
       "        </td><td>\n",
       "          123.0\n",
       "        </td><td>\n",
       "          0.001\n",
       "        </td>\n",
       "        </tr><tr>\n",
       "          <td>\n",
       "          98.0\n",
       "        </td><td>\n",
       "          555.0\n",
       "        </td><td>\n",
       "          0.003\n",
       "        </td>\n",
       "        </tr><tr>\n",
       "          <td>\n",
       "          101.0\n",
       "        </td><td>\n",
       "          666.0\n",
       "        </td><td>\n",
       "          0.006\n",
       "        </td>\n",
       "        </tr>\n",
       "      </table>"
      ]
     },
     "metadata": {},
     "output_type": "display_data"
    },
    {
     "data": {
      "text/plain": [
       "\u001b[32mimport \u001b[39m\u001b[36mmlworthing._\n",
       "\u001b[39m"
      ]
     },
     "execution_count": 5,
     "metadata": {},
     "output_type": "execute_result"
    }
   ],
   "source": [
    "import mlworthing._\n",
    "Array(5.3223,2.343,4,56,7,3,4.00,-1.00).showTable(\"some numbers\")\n",
    "Array(\n",
    "  Array('c', 123, 0.001),\n",
    "  Array('b', 555, 0.003),\n",
    "  Array('e', 666, 0.006)    \n",
    ").showTable(\"char\", \"number\", \"some value\")\n"
   ]
  },
  {
   "cell_type": "markdown",
   "metadata": {},
   "source": [
    "## Pipe Operator"
   ]
  },
  {
   "cell_type": "code",
   "execution_count": 6,
   "metadata": {},
   "outputs": [
    {
     "data": {
      "text/html": [
       "Worthing is awesome ❤️❤️❤️❤️❤️"
      ]
     },
     "metadata": {},
     "output_type": "display_data"
    }
   ],
   "source": [
    "\"Worthing is awesome ❤️❤️❤️❤️❤️\" |> publish.html"
   ]
  },
  {
   "cell_type": "markdown",
   "metadata": {},
   "source": [
    "## Plotting\n",
    "\n",
    "### plotty\n",
    "* https://github.com/alexarchambault/plotly-scala\n",
    "* https://alexarchambault.github.io/plotly-scala/\n",
    "* **requires custom plotly scala build**\n",
    "    * `sbt ++2.11.8 clean publishLocal*\n",
    "    * repo TODO\n"
   ]
  },
  {
   "cell_type": "code",
   "execution_count": 8,
   "metadata": {},
   "outputs": [
    {
     "data": {
      "text/html": [
       "\n",
       "      <script type=\"text/javascript\">\n",
       "        require.config({\n",
       "  paths: {\n",
       "    d3: 'https://cdnjs.cloudflare.com/ajax/libs/d3/3.5.17/d3.min',\n",
       "    plotly: 'https://cdn.plot.ly/plotly-1.31.2.min'\n",
       "  },\n",
       "\n",
       "  shim: {\n",
       "    plotly: {\n",
       "      deps: ['d3', 'jquery'],\n",
       "      exports: 'plotly'\n",
       "    }\n",
       "  }\n",
       "});\n",
       "        \n",
       "\n",
       "        require(['plotly'], function(Plotly) {\n",
       "          window.Plotly = Plotly;\n",
       "        });\n",
       "      </script>\n",
       "    "
      ]
     },
     "metadata": {},
     "output_type": "display_data"
    },
    {
     "data": {
      "text/html": [
       "<div class=\"chart\" id=\"plot-1170982878\"></div>"
      ]
     },
     "metadata": {},
     "output_type": "display_data"
    },
    {
     "data": {
      "application/javascript": [
       "requirejs([\"plotly\"], function(Plotly) {\n",
       "  (function () {\n",
       "  var data0 = {\"type\":\"bar\",\"x\":[\"Banana\",\"Apple\",\"Grapefruit\"],\"y\":[10.0,8.0,15.0]};\n",
       "\n",
       "  var data = [data0];\n",
       "  var layout = {};\n",
       "\n",
       "  var p = Plotly.plot('plot-1170982878', data, layout);\n",
       "Promise.resolve(p);\n",
       "})();\n",
       "});\n",
       "      "
      ]
     },
     "metadata": {},
     "output_type": "display_data"
    },
    {
     "data": {
      "text/html": [
       "<div class=\"chart\" id=\"plot-1401426798\"></div>"
      ]
     },
     "metadata": {},
     "output_type": "display_data"
    },
    {
     "data": {
      "application/javascript": [
       "requirejs([\"plotly\"], function(Plotly) {\n",
       "  (function () {\n",
       "  var data0 = {\"type\":\"scatter\",\"x\":[0.0,0.3,0.6,0.8999999999999999,1.2,1.5,1.7999999999999998,2.1,2.4,2.6999999999999997,3.0,3.3,3.5999999999999996,3.9,4.2,4.5,4.8,5.1,5.3999999999999995,5.7,6.0,6.3,6.6,6.8999999999999995,7.199999999999999,7.5,7.8,8.1,8.4,8.7,9.0,9.299999999999999,9.6,9.9],\"y\":[0.7089387594436806,0.5659910410578405,0.9182943242129196,2.8655354534239788,1.661736041507173,4.3652110532846535,4.6768765733566,4.843198930008281,5.179978586414637,5.917481684764618,6.59506976049409,6.683292295687356,5.844223642398231,9.376690636654752,9.139595494378334,8.195329734663284,11.371342405981103,9.842848294341715,10.523202451721762,11.565220153763466,9.762546245697445,12.672501125930612,13.492241543371437,12.307485828871759,12.036159054929053,15.458273056243975,15.778742447916093,15.880723779825463,17.027588912974895,17.00280449833215,17.063903486474782,19.760475545077963,18.65021437462813,21.018120575842687],\"mode\":\"markers\",\"name\":\"Approx twice\"};\n",
       "  var data1 = {\"type\":\"scatter\",\"x\":[0.0,0.4,0.8,1.2000000000000002,1.6,2.0,2.4000000000000004,2.8000000000000003,3.2,3.6,4.0,4.4,4.800000000000001],\"y\":[1.0,1.4918246976412703,2.225540928492468,3.320116922736548,4.953032424395115,7.38905609893065,11.023176380641601,16.444646771097048,24.53253019710934,36.598234443677974,54.598150033144215,81.45086866496807,121.51041751873485],\"mode\":\"markers\",\"name\":\"Exp\"};\n",
       "\n",
       "  var data = [data0, data1];\n",
       "  var layout = {};\n",
       "\n",
       "  var p = Plotly.plot('plot-1401426798', data, layout);\n",
       "Promise.resolve(p);\n",
       "})();\n",
       "});\n",
       "      "
      ]
     },
     "metadata": {},
     "output_type": "display_data"
    },
    {
     "data": {
      "text/plain": [
       "\u001b[32mimport \u001b[39m\u001b[36m$ivy.$                                                      \n",
       "\n",
       "\u001b[39m\n",
       "\u001b[32mimport \u001b[39m\u001b[36mplotly._\n",
       "\u001b[39m\n",
       "\u001b[32mimport \u001b[39m\u001b[36mplotly.element._\n",
       "\u001b[39m\n",
       "\u001b[32mimport \u001b[39m\u001b[36mplotly.layout._\n",
       "\u001b[39m\n",
       "\u001b[32mimport \u001b[39m\u001b[36mplotly.JupyterScala._\n",
       "\u001b[39m\n",
       "\u001b[32mimport \u001b[39m\u001b[36mplotly.element.Orientation._\n",
       "\n",
       "\n",
       "\u001b[39m\n",
       "\u001b[36mres7_7\u001b[39m: {val x: Seq[String];val y: Seq[Int]} = $sess.cmd7Wrapper$Helper$$anon$1@73c281b2\n",
       "\u001b[36mres7_8\u001b[39m: {val x1: scala.collection.immutable.NumericRange[Double];val y1: scala.collection.immutable.IndexedSeq[Double];val x2: scala.collection.immutable.NumericRange[Double];val y2: scala.collection.immutable.IndexedSeq[Double];val plot: Seq[plotly.Scatter]} = $sess.cmd7Wrapper$Helper$$anon$3@2f615107"
      ]
     },
     "execution_count": 8,
     "metadata": {},
     "output_type": "execute_result"
    }
   ],
   "source": [
    "import $ivy.`org.plotly-scala::plotly-jupyter-scala:0.3.4-SNAPSHOT`\n",
    "\n",
    "import plotly._\n",
    "import plotly.element._\n",
    "import plotly.layout._\n",
    "import plotly.JupyterScala._\n",
    "import plotly.element.Orientation._\n",
    "\n",
    "\n",
    "plotly.JupyterScala.init()\n",
    "\n",
    "new {\n",
    "    val (x, y) = Seq(\n",
    "      \"Banana\" -> 10,\n",
    "      \"Apple\" -> 8,\n",
    "      \"Grapefruit\" -> 15\n",
    "    ).unzip\n",
    "\n",
    "    Bar(x, y).plot()\n",
    "\n",
    "}\n",
    "\n",
    "new {\n",
    "    val x1 = (0.0 to 10.0 by 0.3)\n",
    "    val y1 = x1.map(d => 2.0 * d + util.Random.nextGaussian())\n",
    "\n",
    "    val x2 = (0.0 to 5.0 by 0.4)\n",
    "    val y2 = x2.map(math.exp)\n",
    "\n",
    "    val plot = Seq(\n",
    "      Scatter(\n",
    "        x1, y1,\n",
    "        name = \"Approx twice\",\n",
    "        mode = ScatterMode(ScatterMode.Markers)\n",
    "      ),\n",
    "      Scatter(\n",
    "        x2, y2, \n",
    "        name = \"Exp\",\n",
    "        mode = ScatterMode(ScatterMode.Markers)\n",
    "\n",
    "      )\n",
    "    )\n",
    "    plot.plot()\n",
    "}\n"
   ]
  },
  {
   "cell_type": "markdown",
   "metadata": {},
   "source": [
    "## calling javascript"
   ]
  },
  {
   "cell_type": "code",
   "execution_count": 9,
   "metadata": {
    "scrolled": true
   },
   "outputs": [
    {
     "data": {
      "application/javascript": [
       "console.info('asdfasdf123')"
      ]
     },
     "metadata": {},
     "output_type": "display_data"
    }
   ],
   "source": [
    "publish.js(\"console.info('asdfasdf123')\")"
   ]
  },
  {
   "cell_type": "markdown",
   "metadata": {},
   "source": [
    "## using plotly.js API and updating graph\n",
    "* http://www.mzan.com/article/35946484-most-performant-way-to-update-graph-with-new-data-with-plotly.shtml\n"
   ]
  },
  {
   "cell_type": "code",
   "execution_count": 10,
   "metadata": {},
   "outputs": [
    {
     "data": {
      "text/html": [
       "<div class=\"chart\" id=\"plot-div-123\"></div>"
      ]
     },
     "metadata": {},
     "output_type": "display_data"
    },
    {
     "data": {
      "application/javascript": [
       "\n",
       "       window.tDiv = document.getElementById('plot-div-123');\n",
       "     \n",
       "     "
      ]
     },
     "metadata": {},
     "output_type": "display_data"
    },
    {
     "data": {
      "application/javascript": [
       "\n",
       "      window.graphdata = [{\n",
       "        x: [1, 2, 3, 4, 5], // in reality I have more values...\n",
       "        y: [1, 2, 4, 8, 16],\n",
       "        type: 'scatter'\n",
       "      }];\n",
       "      \n",
       "      "
      ]
     },
     "metadata": {},
     "output_type": "display_data"
    },
    {
     "data": {
      "application/javascript": [
       "\n",
       "      \n",
       "       Plotly.newPlot(tDiv, window.graphdata, \n",
       "      {\n",
       "      margin: { t: 0 } } );\n",
       "      \n",
       "      "
      ]
     },
     "metadata": {},
     "output_type": "display_data"
    },
    {
     "data": {
      "application/javascript": [
       "\n",
       "             window.graphdata[0]['x'].push(-3);\n",
       "             window.graphdata[0]['y'].push(6);\n",
       "          "
      ]
     },
     "metadata": {},
     "output_type": "display_data"
    },
    {
     "data": {
      "application/javascript": [
       "\n",
       "      \n",
       "       Plotly.redraw(window.tDiv);\n",
       "      \n",
       "      "
      ]
     },
     "metadata": {},
     "output_type": "display_data"
    },
    {
     "data": {
      "application/javascript": [
       "\n",
       "             window.graphdata[0]['x'].push(1);\n",
       "             window.graphdata[0]['y'].push(1);\n",
       "          "
      ]
     },
     "metadata": {},
     "output_type": "display_data"
    },
    {
     "data": {
      "application/javascript": [
       "\n",
       "      \n",
       "       Plotly.redraw(window.tDiv);\n",
       "      \n",
       "      "
      ]
     },
     "metadata": {},
     "output_type": "display_data"
    },
    {
     "data": {
      "application/javascript": [
       "\n",
       "             window.graphdata[0]['x'].push(1);\n",
       "             window.graphdata[0]['y'].push(-4);\n",
       "          "
      ]
     },
     "metadata": {},
     "output_type": "display_data"
    },
    {
     "data": {
      "application/javascript": [
       "\n",
       "      \n",
       "       Plotly.redraw(window.tDiv);\n",
       "      \n",
       "      "
      ]
     },
     "metadata": {},
     "output_type": "display_data"
    },
    {
     "data": {
      "application/javascript": [
       "\n",
       "             window.graphdata[0]['x'].push(-7);\n",
       "             window.graphdata[0]['y'].push(7);\n",
       "          "
      ]
     },
     "metadata": {},
     "output_type": "display_data"
    },
    {
     "data": {
      "application/javascript": [
       "\n",
       "      \n",
       "       Plotly.redraw(window.tDiv);\n",
       "      \n",
       "      "
      ]
     },
     "metadata": {},
     "output_type": "display_data"
    },
    {
     "data": {
      "application/javascript": [
       "\n",
       "             window.graphdata[0]['x'].push(-5);\n",
       "             window.graphdata[0]['y'].push(1);\n",
       "          "
      ]
     },
     "metadata": {},
     "output_type": "display_data"
    },
    {
     "data": {
      "application/javascript": [
       "\n",
       "      \n",
       "       Plotly.redraw(window.tDiv);\n",
       "      \n",
       "      "
      ]
     },
     "metadata": {},
     "output_type": "display_data"
    },
    {
     "data": {
      "application/javascript": [
       "\n",
       "             window.graphdata[0]['x'].push(9);\n",
       "             window.graphdata[0]['y'].push(6);\n",
       "          "
      ]
     },
     "metadata": {},
     "output_type": "display_data"
    },
    {
     "data": {
      "application/javascript": [
       "\n",
       "      \n",
       "       Plotly.redraw(window.tDiv);\n",
       "      \n",
       "      "
      ]
     },
     "metadata": {},
     "output_type": "display_data"
    },
    {
     "data": {
      "application/javascript": [
       "\n",
       "             window.graphdata[0]['x'].push(-6);\n",
       "             window.graphdata[0]['y'].push(3);\n",
       "          "
      ]
     },
     "metadata": {},
     "output_type": "display_data"
    },
    {
     "data": {
      "application/javascript": [
       "\n",
       "      \n",
       "       Plotly.redraw(window.tDiv);\n",
       "      \n",
       "      "
      ]
     },
     "metadata": {},
     "output_type": "display_data"
    },
    {
     "data": {
      "application/javascript": [
       "\n",
       "             window.graphdata[0]['x'].push(6);\n",
       "             window.graphdata[0]['y'].push(-9);\n",
       "          "
      ]
     },
     "metadata": {},
     "output_type": "display_data"
    },
    {
     "data": {
      "application/javascript": [
       "\n",
       "      \n",
       "       Plotly.redraw(window.tDiv);\n",
       "      \n",
       "      "
      ]
     },
     "metadata": {},
     "output_type": "display_data"
    },
    {
     "data": {
      "application/javascript": [
       "\n",
       "             window.graphdata[0]['x'].push(5);\n",
       "             window.graphdata[0]['y'].push(-5);\n",
       "          "
      ]
     },
     "metadata": {},
     "output_type": "display_data"
    },
    {
     "data": {
      "application/javascript": [
       "\n",
       "      \n",
       "       Plotly.redraw(window.tDiv);\n",
       "      \n",
       "      "
      ]
     },
     "metadata": {},
     "output_type": "display_data"
    },
    {
     "data": {
      "application/javascript": [
       "\n",
       "             window.graphdata[0]['x'].push(1);\n",
       "             window.graphdata[0]['y'].push(0);\n",
       "          "
      ]
     },
     "metadata": {},
     "output_type": "display_data"
    },
    {
     "data": {
      "application/javascript": [
       "\n",
       "      \n",
       "       Plotly.redraw(window.tDiv);\n",
       "      \n",
       "      "
      ]
     },
     "metadata": {},
     "output_type": "display_data"
    },
    {
     "data": {
      "application/javascript": [
       "\n",
       "             window.graphdata[0]['x'].push(1);\n",
       "             window.graphdata[0]['y'].push(3);\n",
       "          "
      ]
     },
     "metadata": {},
     "output_type": "display_data"
    },
    {
     "data": {
      "application/javascript": [
       "\n",
       "      \n",
       "       Plotly.redraw(window.tDiv);\n",
       "      \n",
       "      "
      ]
     },
     "metadata": {},
     "output_type": "display_data"
    },
    {
     "data": {
      "application/javascript": [
       "\n",
       "             window.graphdata[0]['x'].push(8);\n",
       "             window.graphdata[0]['y'].push(4);\n",
       "          "
      ]
     },
     "metadata": {},
     "output_type": "display_data"
    },
    {
     "data": {
      "application/javascript": [
       "\n",
       "      \n",
       "       Plotly.redraw(window.tDiv);\n",
       "      \n",
       "      "
      ]
     },
     "metadata": {},
     "output_type": "display_data"
    },
    {
     "data": {
      "application/javascript": [
       "\n",
       "             window.graphdata[0]['x'].push(-7);\n",
       "             window.graphdata[0]['y'].push(5);\n",
       "          "
      ]
     },
     "metadata": {},
     "output_type": "display_data"
    },
    {
     "data": {
      "application/javascript": [
       "\n",
       "      \n",
       "       Plotly.redraw(window.tDiv);\n",
       "      \n",
       "      "
      ]
     },
     "metadata": {},
     "output_type": "display_data"
    },
    {
     "data": {
      "application/javascript": [
       "\n",
       "             window.graphdata[0]['x'].push(-6);\n",
       "             window.graphdata[0]['y'].push(3);\n",
       "          "
      ]
     },
     "metadata": {},
     "output_type": "display_data"
    },
    {
     "data": {
      "application/javascript": [
       "\n",
       "      \n",
       "       Plotly.redraw(window.tDiv);\n",
       "      \n",
       "      "
      ]
     },
     "metadata": {},
     "output_type": "display_data"
    },
    {
     "data": {
      "application/javascript": [
       "\n",
       "             window.graphdata[0]['x'].push(-9);\n",
       "             window.graphdata[0]['y'].push(2);\n",
       "          "
      ]
     },
     "metadata": {},
     "output_type": "display_data"
    },
    {
     "data": {
      "application/javascript": [
       "\n",
       "      \n",
       "       Plotly.redraw(window.tDiv);\n",
       "      \n",
       "      "
      ]
     },
     "metadata": {},
     "output_type": "display_data"
    },
    {
     "data": {
      "application/javascript": [
       "\n",
       "             window.graphdata[0]['x'].push(-7);\n",
       "             window.graphdata[0]['y'].push(2);\n",
       "          "
      ]
     },
     "metadata": {},
     "output_type": "display_data"
    },
    {
     "data": {
      "application/javascript": [
       "\n",
       "      \n",
       "       Plotly.redraw(window.tDiv);\n",
       "      \n",
       "      "
      ]
     },
     "metadata": {},
     "output_type": "display_data"
    },
    {
     "data": {
      "application/javascript": [
       "\n",
       "             window.graphdata[0]['x'].push(-4);\n",
       "             window.graphdata[0]['y'].push(2);\n",
       "          "
      ]
     },
     "metadata": {},
     "output_type": "display_data"
    },
    {
     "data": {
      "application/javascript": [
       "\n",
       "      \n",
       "       Plotly.redraw(window.tDiv);\n",
       "      \n",
       "      "
      ]
     },
     "metadata": {},
     "output_type": "display_data"
    },
    {
     "data": {
      "application/javascript": [
       "\n",
       "             window.graphdata[0]['x'].push(0);\n",
       "             window.graphdata[0]['y'].push(7);\n",
       "          "
      ]
     },
     "metadata": {},
     "output_type": "display_data"
    },
    {
     "data": {
      "application/javascript": [
       "\n",
       "      \n",
       "       Plotly.redraw(window.tDiv);\n",
       "      \n",
       "      "
      ]
     },
     "metadata": {},
     "output_type": "display_data"
    },
    {
     "data": {
      "application/javascript": [
       "\n",
       "             window.graphdata[0]['x'].push(-7);\n",
       "             window.graphdata[0]['y'].push(0);\n",
       "          "
      ]
     },
     "metadata": {},
     "output_type": "display_data"
    },
    {
     "data": {
      "application/javascript": [
       "\n",
       "      \n",
       "       Plotly.redraw(window.tDiv);\n",
       "      \n",
       "      "
      ]
     },
     "metadata": {},
     "output_type": "display_data"
    },
    {
     "data": {
      "application/javascript": [
       "\n",
       "             window.graphdata[0]['x'].push(1);\n",
       "             window.graphdata[0]['y'].push(0);\n",
       "          "
      ]
     },
     "metadata": {},
     "output_type": "display_data"
    },
    {
     "data": {
      "application/javascript": [
       "\n",
       "      \n",
       "       Plotly.redraw(window.tDiv);\n",
       "      \n",
       "      "
      ]
     },
     "metadata": {},
     "output_type": "display_data"
    },
    {
     "data": {
      "application/javascript": [
       "\n",
       "             window.graphdata[0]['x'].push(-5);\n",
       "             window.graphdata[0]['y'].push(6);\n",
       "          "
      ]
     },
     "metadata": {},
     "output_type": "display_data"
    },
    {
     "data": {
      "application/javascript": [
       "\n",
       "      \n",
       "       Plotly.redraw(window.tDiv);\n",
       "      \n",
       "      "
      ]
     },
     "metadata": {},
     "output_type": "display_data"
    },
    {
     "data": {
      "application/javascript": [
       "\n",
       "             window.graphdata[0]['x'].push(3);\n",
       "             window.graphdata[0]['y'].push(9);\n",
       "          "
      ]
     },
     "metadata": {},
     "output_type": "display_data"
    },
    {
     "data": {
      "application/javascript": [
       "\n",
       "      \n",
       "       Plotly.redraw(window.tDiv);\n",
       "      \n",
       "      "
      ]
     },
     "metadata": {},
     "output_type": "display_data"
    },
    {
     "data": {
      "application/javascript": [
       "\n",
       "             window.graphdata[0]['x'].push(6);\n",
       "             window.graphdata[0]['y'].push(8);\n",
       "          "
      ]
     },
     "metadata": {},
     "output_type": "display_data"
    },
    {
     "data": {
      "application/javascript": [
       "\n",
       "      \n",
       "       Plotly.redraw(window.tDiv);\n",
       "      \n",
       "      "
      ]
     },
     "metadata": {},
     "output_type": "display_data"
    },
    {
     "data": {
      "application/javascript": [
       "\n",
       "             window.graphdata[0]['x'].push(9);\n",
       "             window.graphdata[0]['y'].push(-8);\n",
       "          "
      ]
     },
     "metadata": {},
     "output_type": "display_data"
    },
    {
     "data": {
      "application/javascript": [
       "\n",
       "      \n",
       "       Plotly.redraw(window.tDiv);\n",
       "      \n",
       "      "
      ]
     },
     "metadata": {},
     "output_type": "display_data"
    },
    {
     "data": {
      "application/javascript": [
       "\n",
       "             window.graphdata[0]['x'].push(-6);\n",
       "             window.graphdata[0]['y'].push(1);\n",
       "          "
      ]
     },
     "metadata": {},
     "output_type": "display_data"
    },
    {
     "data": {
      "application/javascript": [
       "\n",
       "      \n",
       "       Plotly.redraw(window.tDiv);\n",
       "      \n",
       "      "
      ]
     },
     "metadata": {},
     "output_type": "display_data"
    },
    {
     "data": {
      "application/javascript": [
       "\n",
       "             window.graphdata[0]['x'].push(9);\n",
       "             window.graphdata[0]['y'].push(3);\n",
       "          "
      ]
     },
     "metadata": {},
     "output_type": "display_data"
    },
    {
     "data": {
      "application/javascript": [
       "\n",
       "      \n",
       "       Plotly.redraw(window.tDiv);\n",
       "      \n",
       "      "
      ]
     },
     "metadata": {},
     "output_type": "display_data"
    },
    {
     "data": {
      "application/javascript": [
       "\n",
       "             window.graphdata[0]['x'].push(-4);\n",
       "             window.graphdata[0]['y'].push(-8);\n",
       "          "
      ]
     },
     "metadata": {},
     "output_type": "display_data"
    },
    {
     "data": {
      "application/javascript": [
       "\n",
       "      \n",
       "       Plotly.redraw(window.tDiv);\n",
       "      \n",
       "      "
      ]
     },
     "metadata": {},
     "output_type": "display_data"
    },
    {
     "data": {
      "application/javascript": [
       "\n",
       "             window.graphdata[0]['x'].push(-9);\n",
       "             window.graphdata[0]['y'].push(5);\n",
       "          "
      ]
     },
     "metadata": {},
     "output_type": "display_data"
    },
    {
     "data": {
      "application/javascript": [
       "\n",
       "      \n",
       "       Plotly.redraw(window.tDiv);\n",
       "      \n",
       "      "
      ]
     },
     "metadata": {},
     "output_type": "display_data"
    },
    {
     "data": {
      "application/javascript": [
       "\n",
       "             window.graphdata[0]['x'].push(-2);\n",
       "             window.graphdata[0]['y'].push(-5);\n",
       "          "
      ]
     },
     "metadata": {},
     "output_type": "display_data"
    },
    {
     "data": {
      "application/javascript": [
       "\n",
       "      \n",
       "       Plotly.redraw(window.tDiv);\n",
       "      \n",
       "      "
      ]
     },
     "metadata": {},
     "output_type": "display_data"
    },
    {
     "data": {
      "application/javascript": [
       "\n",
       "             window.graphdata[0]['x'].push(1);\n",
       "             window.graphdata[0]['y'].push(8);\n",
       "          "
      ]
     },
     "metadata": {},
     "output_type": "display_data"
    },
    {
     "data": {
      "application/javascript": [
       "\n",
       "      \n",
       "       Plotly.redraw(window.tDiv);\n",
       "      \n",
       "      "
      ]
     },
     "metadata": {},
     "output_type": "display_data"
    },
    {
     "data": {
      "application/javascript": [
       "\n",
       "             window.graphdata[0]['x'].push(-6);\n",
       "             window.graphdata[0]['y'].push(9);\n",
       "          "
      ]
     },
     "metadata": {},
     "output_type": "display_data"
    },
    {
     "data": {
      "application/javascript": [
       "\n",
       "      \n",
       "       Plotly.redraw(window.tDiv);\n",
       "      \n",
       "      "
      ]
     },
     "metadata": {},
     "output_type": "display_data"
    },
    {
     "data": {
      "application/javascript": [
       "\n",
       "             window.graphdata[0]['x'].push(-5);\n",
       "             window.graphdata[0]['y'].push(0);\n",
       "          "
      ]
     },
     "metadata": {},
     "output_type": "display_data"
    },
    {
     "data": {
      "application/javascript": [
       "\n",
       "      \n",
       "       Plotly.redraw(window.tDiv);\n",
       "      \n",
       "      "
      ]
     },
     "metadata": {},
     "output_type": "display_data"
    },
    {
     "data": {
      "application/javascript": [
       "\n",
       "             window.graphdata[0]['x'].push(-5);\n",
       "             window.graphdata[0]['y'].push(4);\n",
       "          "
      ]
     },
     "metadata": {},
     "output_type": "display_data"
    },
    {
     "data": {
      "application/javascript": [
       "\n",
       "      \n",
       "       Plotly.redraw(window.tDiv);\n",
       "      \n",
       "      "
      ]
     },
     "metadata": {},
     "output_type": "display_data"
    },
    {
     "data": {
      "application/javascript": [
       "\n",
       "             window.graphdata[0]['x'].push(-9);\n",
       "             window.graphdata[0]['y'].push(4);\n",
       "          "
      ]
     },
     "metadata": {},
     "output_type": "display_data"
    },
    {
     "data": {
      "application/javascript": [
       "\n",
       "      \n",
       "       Plotly.redraw(window.tDiv);\n",
       "      \n",
       "      "
      ]
     },
     "metadata": {},
     "output_type": "display_data"
    },
    {
     "data": {
      "application/javascript": [
       "\n",
       "             window.graphdata[0]['x'].push(-7);\n",
       "             window.graphdata[0]['y'].push(-8);\n",
       "          "
      ]
     },
     "metadata": {},
     "output_type": "display_data"
    },
    {
     "data": {
      "application/javascript": [
       "\n",
       "      \n",
       "       Plotly.redraw(window.tDiv);\n",
       "      \n",
       "      "
      ]
     },
     "metadata": {},
     "output_type": "display_data"
    },
    {
     "data": {
      "application/javascript": [
       "\n",
       "             window.graphdata[0]['x'].push(5);\n",
       "             window.graphdata[0]['y'].push(-6);\n",
       "          "
      ]
     },
     "metadata": {},
     "output_type": "display_data"
    },
    {
     "data": {
      "application/javascript": [
       "\n",
       "      \n",
       "       Plotly.redraw(window.tDiv);\n",
       "      \n",
       "      "
      ]
     },
     "metadata": {},
     "output_type": "display_data"
    },
    {
     "data": {
      "application/javascript": [
       "\n",
       "             window.graphdata[0]['x'].push(4);\n",
       "             window.graphdata[0]['y'].push(9);\n",
       "          "
      ]
     },
     "metadata": {},
     "output_type": "display_data"
    },
    {
     "data": {
      "application/javascript": [
       "\n",
       "      \n",
       "       Plotly.redraw(window.tDiv);\n",
       "      \n",
       "      "
      ]
     },
     "metadata": {},
     "output_type": "display_data"
    },
    {
     "data": {
      "application/javascript": [
       "\n",
       "             window.graphdata[0]['x'].push(5);\n",
       "             window.graphdata[0]['y'].push(9);\n",
       "          "
      ]
     },
     "metadata": {},
     "output_type": "display_data"
    },
    {
     "data": {
      "application/javascript": [
       "\n",
       "      \n",
       "       Plotly.redraw(window.tDiv);\n",
       "      \n",
       "      "
      ]
     },
     "metadata": {},
     "output_type": "display_data"
    },
    {
     "data": {
      "application/javascript": [
       "\n",
       "             window.graphdata[0]['x'].push(-2);\n",
       "             window.graphdata[0]['y'].push(9);\n",
       "          "
      ]
     },
     "metadata": {},
     "output_type": "display_data"
    },
    {
     "data": {
      "application/javascript": [
       "\n",
       "      \n",
       "       Plotly.redraw(window.tDiv);\n",
       "      \n",
       "      "
      ]
     },
     "metadata": {},
     "output_type": "display_data"
    },
    {
     "data": {
      "application/javascript": [
       "\n",
       "             window.graphdata[0]['x'].push(-6);\n",
       "             window.graphdata[0]['y'].push(-8);\n",
       "          "
      ]
     },
     "metadata": {},
     "output_type": "display_data"
    },
    {
     "data": {
      "application/javascript": [
       "\n",
       "      \n",
       "       Plotly.redraw(window.tDiv);\n",
       "      \n",
       "      "
      ]
     },
     "metadata": {},
     "output_type": "display_data"
    },
    {
     "data": {
      "application/javascript": [
       "\n",
       "             window.graphdata[0]['x'].push(-5);\n",
       "             window.graphdata[0]['y'].push(9);\n",
       "          "
      ]
     },
     "metadata": {},
     "output_type": "display_data"
    },
    {
     "data": {
      "application/javascript": [
       "\n",
       "      \n",
       "       Plotly.redraw(window.tDiv);\n",
       "      \n",
       "      "
      ]
     },
     "metadata": {},
     "output_type": "display_data"
    },
    {
     "data": {
      "application/javascript": [
       "\n",
       "             window.graphdata[0]['x'].push(-2);\n",
       "             window.graphdata[0]['y'].push(2);\n",
       "          "
      ]
     },
     "metadata": {},
     "output_type": "display_data"
    },
    {
     "data": {
      "application/javascript": [
       "\n",
       "      \n",
       "       Plotly.redraw(window.tDiv);\n",
       "      \n",
       "      "
      ]
     },
     "metadata": {},
     "output_type": "display_data"
    },
    {
     "data": {
      "application/javascript": [
       "\n",
       "             window.graphdata[0]['x'].push(-7);\n",
       "             window.graphdata[0]['y'].push(-3);\n",
       "          "
      ]
     },
     "metadata": {},
     "output_type": "display_data"
    },
    {
     "data": {
      "application/javascript": [
       "\n",
       "      \n",
       "       Plotly.redraw(window.tDiv);\n",
       "      \n",
       "      "
      ]
     },
     "metadata": {},
     "output_type": "display_data"
    },
    {
     "data": {
      "application/javascript": [
       "\n",
       "             window.graphdata[0]['x'].push(9);\n",
       "             window.graphdata[0]['y'].push(3);\n",
       "          "
      ]
     },
     "metadata": {},
     "output_type": "display_data"
    },
    {
     "data": {
      "application/javascript": [
       "\n",
       "      \n",
       "       Plotly.redraw(window.tDiv);\n",
       "      \n",
       "      "
      ]
     },
     "metadata": {},
     "output_type": "display_data"
    },
    {
     "data": {
      "application/javascript": [
       "\n",
       "             window.graphdata[0]['x'].push(4);\n",
       "             window.graphdata[0]['y'].push(3);\n",
       "          "
      ]
     },
     "metadata": {},
     "output_type": "display_data"
    },
    {
     "data": {
      "application/javascript": [
       "\n",
       "      \n",
       "       Plotly.redraw(window.tDiv);\n",
       "      \n",
       "      "
      ]
     },
     "metadata": {},
     "output_type": "display_data"
    },
    {
     "data": {
      "application/javascript": [
       "\n",
       "             window.graphdata[0]['x'].push(2);\n",
       "             window.graphdata[0]['y'].push(-4);\n",
       "          "
      ]
     },
     "metadata": {},
     "output_type": "display_data"
    },
    {
     "data": {
      "application/javascript": [
       "\n",
       "      \n",
       "       Plotly.redraw(window.tDiv);\n",
       "      \n",
       "      "
      ]
     },
     "metadata": {},
     "output_type": "display_data"
    },
    {
     "data": {
      "application/javascript": [
       "\n",
       "             window.graphdata[0]['x'].push(-9);\n",
       "             window.graphdata[0]['y'].push(4);\n",
       "          "
      ]
     },
     "metadata": {},
     "output_type": "display_data"
    },
    {
     "data": {
      "application/javascript": [
       "\n",
       "      \n",
       "       Plotly.redraw(window.tDiv);\n",
       "      \n",
       "      "
      ]
     },
     "metadata": {},
     "output_type": "display_data"
    },
    {
     "data": {
      "application/javascript": [
       "\n",
       "             window.graphdata[0]['x'].push(9);\n",
       "             window.graphdata[0]['y'].push(-8);\n",
       "          "
      ]
     },
     "metadata": {},
     "output_type": "display_data"
    },
    {
     "data": {
      "application/javascript": [
       "\n",
       "      \n",
       "       Plotly.redraw(window.tDiv);\n",
       "      \n",
       "      "
      ]
     },
     "metadata": {},
     "output_type": "display_data"
    },
    {
     "data": {
      "application/javascript": [
       "\n",
       "             window.graphdata[0]['x'].push(4);\n",
       "             window.graphdata[0]['y'].push(4);\n",
       "          "
      ]
     },
     "metadata": {},
     "output_type": "display_data"
    },
    {
     "data": {
      "application/javascript": [
       "\n",
       "      \n",
       "       Plotly.redraw(window.tDiv);\n",
       "      \n",
       "      "
      ]
     },
     "metadata": {},
     "output_type": "display_data"
    },
    {
     "data": {
      "application/javascript": [
       "\n",
       "             window.graphdata[0]['x'].push(-1);\n",
       "             window.graphdata[0]['y'].push(0);\n",
       "          "
      ]
     },
     "metadata": {},
     "output_type": "display_data"
    },
    {
     "data": {
      "application/javascript": [
       "\n",
       "      \n",
       "       Plotly.redraw(window.tDiv);\n",
       "      \n",
       "      "
      ]
     },
     "metadata": {},
     "output_type": "display_data"
    },
    {
     "data": {
      "application/javascript": [
       "\n",
       "             window.graphdata[0]['x'].push(8);\n",
       "             window.graphdata[0]['y'].push(6);\n",
       "          "
      ]
     },
     "metadata": {},
     "output_type": "display_data"
    },
    {
     "data": {
      "application/javascript": [
       "\n",
       "      \n",
       "       Plotly.redraw(window.tDiv);\n",
       "      \n",
       "      "
      ]
     },
     "metadata": {},
     "output_type": "display_data"
    },
    {
     "data": {
      "application/javascript": [
       "\n",
       "             window.graphdata[0]['x'].push(7);\n",
       "             window.graphdata[0]['y'].push(0);\n",
       "          "
      ]
     },
     "metadata": {},
     "output_type": "display_data"
    },
    {
     "data": {
      "application/javascript": [
       "\n",
       "      \n",
       "       Plotly.redraw(window.tDiv);\n",
       "      \n",
       "      "
      ]
     },
     "metadata": {},
     "output_type": "display_data"
    },
    {
     "data": {
      "application/javascript": [
       "\n",
       "             window.graphdata[0]['x'].push(0);\n",
       "             window.graphdata[0]['y'].push(3);\n",
       "          "
      ]
     },
     "metadata": {},
     "output_type": "display_data"
    },
    {
     "data": {
      "application/javascript": [
       "\n",
       "      \n",
       "       Plotly.redraw(window.tDiv);\n",
       "      \n",
       "      "
      ]
     },
     "metadata": {},
     "output_type": "display_data"
    },
    {
     "data": {
      "application/javascript": [
       "\n",
       "             window.graphdata[0]['x'].push(-5);\n",
       "             window.graphdata[0]['y'].push(0);\n",
       "          "
      ]
     },
     "metadata": {},
     "output_type": "display_data"
    },
    {
     "data": {
      "application/javascript": [
       "\n",
       "      \n",
       "       Plotly.redraw(window.tDiv);\n",
       "      \n",
       "      "
      ]
     },
     "metadata": {},
     "output_type": "display_data"
    },
    {
     "data": {
      "application/javascript": [
       "\n",
       "             window.graphdata[0]['x'].push(1);\n",
       "             window.graphdata[0]['y'].push(-5);\n",
       "          "
      ]
     },
     "metadata": {},
     "output_type": "display_data"
    },
    {
     "data": {
      "application/javascript": [
       "\n",
       "      \n",
       "       Plotly.redraw(window.tDiv);\n",
       "      \n",
       "      "
      ]
     },
     "metadata": {},
     "output_type": "display_data"
    },
    {
     "data": {
      "application/javascript": [
       "\n",
       "             window.graphdata[0]['x'].push(-5);\n",
       "             window.graphdata[0]['y'].push(-5);\n",
       "          "
      ]
     },
     "metadata": {},
     "output_type": "display_data"
    },
    {
     "data": {
      "application/javascript": [
       "\n",
       "      \n",
       "       Plotly.redraw(window.tDiv);\n",
       "      \n",
       "      "
      ]
     },
     "metadata": {},
     "output_type": "display_data"
    },
    {
     "data": {
      "application/javascript": [
       "\n",
       "             window.graphdata[0]['x'].push(-6);\n",
       "             window.graphdata[0]['y'].push(-3);\n",
       "          "
      ]
     },
     "metadata": {},
     "output_type": "display_data"
    },
    {
     "data": {
      "application/javascript": [
       "\n",
       "      \n",
       "       Plotly.redraw(window.tDiv);\n",
       "      \n",
       "      "
      ]
     },
     "metadata": {},
     "output_type": "display_data"
    },
    {
     "data": {
      "application/javascript": [
       "\n",
       "             window.graphdata[0]['x'].push(-4);\n",
       "             window.graphdata[0]['y'].push(2);\n",
       "          "
      ]
     },
     "metadata": {},
     "output_type": "display_data"
    },
    {
     "data": {
      "application/javascript": [
       "\n",
       "      \n",
       "       Plotly.redraw(window.tDiv);\n",
       "      \n",
       "      "
      ]
     },
     "metadata": {},
     "output_type": "display_data"
    },
    {
     "data": {
      "application/javascript": [
       "\n",
       "             window.graphdata[0]['x'].push(6);\n",
       "             window.graphdata[0]['y'].push(8);\n",
       "          "
      ]
     },
     "metadata": {},
     "output_type": "display_data"
    },
    {
     "data": {
      "application/javascript": [
       "\n",
       "      \n",
       "       Plotly.redraw(window.tDiv);\n",
       "      \n",
       "      "
      ]
     },
     "metadata": {},
     "output_type": "display_data"
    },
    {
     "data": {
      "application/javascript": [
       "\n",
       "             window.graphdata[0]['x'].push(-8);\n",
       "             window.graphdata[0]['y'].push(0);\n",
       "          "
      ]
     },
     "metadata": {},
     "output_type": "display_data"
    },
    {
     "data": {
      "application/javascript": [
       "\n",
       "      \n",
       "       Plotly.redraw(window.tDiv);\n",
       "      \n",
       "      "
      ]
     },
     "metadata": {},
     "output_type": "display_data"
    },
    {
     "data": {
      "application/javascript": [
       "\n",
       "             window.graphdata[0]['x'].push(-1);\n",
       "             window.graphdata[0]['y'].push(0);\n",
       "          "
      ]
     },
     "metadata": {},
     "output_type": "display_data"
    },
    {
     "data": {
      "application/javascript": [
       "\n",
       "      \n",
       "       Plotly.redraw(window.tDiv);\n",
       "      \n",
       "      "
      ]
     },
     "metadata": {},
     "output_type": "display_data"
    },
    {
     "data": {
      "application/javascript": [
       "\n",
       "             window.graphdata[0]['x'].push(-6);\n",
       "             window.graphdata[0]['y'].push(8);\n",
       "          "
      ]
     },
     "metadata": {},
     "output_type": "display_data"
    },
    {
     "data": {
      "application/javascript": [
       "\n",
       "      \n",
       "       Plotly.redraw(window.tDiv);\n",
       "      \n",
       "      "
      ]
     },
     "metadata": {},
     "output_type": "display_data"
    },
    {
     "data": {
      "application/javascript": [
       "\n",
       "             window.graphdata[0]['x'].push(0);\n",
       "             window.graphdata[0]['y'].push(1);\n",
       "          "
      ]
     },
     "metadata": {},
     "output_type": "display_data"
    },
    {
     "data": {
      "application/javascript": [
       "\n",
       "      \n",
       "       Plotly.redraw(window.tDiv);\n",
       "      \n",
       "      "
      ]
     },
     "metadata": {},
     "output_type": "display_data"
    },
    {
     "data": {
      "application/javascript": [
       "\n",
       "             window.graphdata[0]['x'].push(-3);\n",
       "             window.graphdata[0]['y'].push(6);\n",
       "          "
      ]
     },
     "metadata": {},
     "output_type": "display_data"
    },
    {
     "data": {
      "application/javascript": [
       "\n",
       "      \n",
       "       Plotly.redraw(window.tDiv);\n",
       "      \n",
       "      "
      ]
     },
     "metadata": {},
     "output_type": "display_data"
    },
    {
     "data": {
      "application/javascript": [
       "\n",
       "             window.graphdata[0]['x'].push(3);\n",
       "             window.graphdata[0]['y'].push(-9);\n",
       "          "
      ]
     },
     "metadata": {},
     "output_type": "display_data"
    },
    {
     "data": {
      "application/javascript": [
       "\n",
       "      \n",
       "       Plotly.redraw(window.tDiv);\n",
       "      \n",
       "      "
      ]
     },
     "metadata": {},
     "output_type": "display_data"
    },
    {
     "data": {
      "application/javascript": [
       "\n",
       "             window.graphdata[0]['x'].push(-2);\n",
       "             window.graphdata[0]['y'].push(-1);\n",
       "          "
      ]
     },
     "metadata": {},
     "output_type": "display_data"
    },
    {
     "data": {
      "application/javascript": [
       "\n",
       "      \n",
       "       Plotly.redraw(window.tDiv);\n",
       "      \n",
       "      "
      ]
     },
     "metadata": {},
     "output_type": "display_data"
    },
    {
     "data": {
      "application/javascript": [
       "\n",
       "             window.graphdata[0]['x'].push(-6);\n",
       "             window.graphdata[0]['y'].push(6);\n",
       "          "
      ]
     },
     "metadata": {},
     "output_type": "display_data"
    },
    {
     "data": {
      "application/javascript": [
       "\n",
       "      \n",
       "       Plotly.redraw(window.tDiv);\n",
       "      \n",
       "      "
      ]
     },
     "metadata": {},
     "output_type": "display_data"
    },
    {
     "data": {
      "application/javascript": [
       "\n",
       "             window.graphdata[0]['x'].push(1);\n",
       "             window.graphdata[0]['y'].push(-2);\n",
       "          "
      ]
     },
     "metadata": {},
     "output_type": "display_data"
    },
    {
     "data": {
      "application/javascript": [
       "\n",
       "      \n",
       "       Plotly.redraw(window.tDiv);\n",
       "      \n",
       "      "
      ]
     },
     "metadata": {},
     "output_type": "display_data"
    },
    {
     "data": {
      "application/javascript": [
       "\n",
       "             window.graphdata[0]['x'].push(7);\n",
       "             window.graphdata[0]['y'].push(9);\n",
       "          "
      ]
     },
     "metadata": {},
     "output_type": "display_data"
    },
    {
     "data": {
      "application/javascript": [
       "\n",
       "      \n",
       "       Plotly.redraw(window.tDiv);\n",
       "      \n",
       "      "
      ]
     },
     "metadata": {},
     "output_type": "display_data"
    },
    {
     "data": {
      "application/javascript": [
       "\n",
       "             window.graphdata[0]['x'].push(8);\n",
       "             window.graphdata[0]['y'].push(-2);\n",
       "          "
      ]
     },
     "metadata": {},
     "output_type": "display_data"
    },
    {
     "data": {
      "application/javascript": [
       "\n",
       "      \n",
       "       Plotly.redraw(window.tDiv);\n",
       "      \n",
       "      "
      ]
     },
     "metadata": {},
     "output_type": "display_data"
    },
    {
     "data": {
      "application/javascript": [
       "\n",
       "             window.graphdata[0]['x'].push(2);\n",
       "             window.graphdata[0]['y'].push(-3);\n",
       "          "
      ]
     },
     "metadata": {},
     "output_type": "display_data"
    },
    {
     "data": {
      "application/javascript": [
       "\n",
       "      \n",
       "       Plotly.redraw(window.tDiv);\n",
       "      \n",
       "      "
      ]
     },
     "metadata": {},
     "output_type": "display_data"
    },
    {
     "data": {
      "application/javascript": [
       "\n",
       "             window.graphdata[0]['x'].push(2);\n",
       "             window.graphdata[0]['y'].push(5);\n",
       "          "
      ]
     },
     "metadata": {},
     "output_type": "display_data"
    },
    {
     "data": {
      "application/javascript": [
       "\n",
       "      \n",
       "       Plotly.redraw(window.tDiv);\n",
       "      \n",
       "      "
      ]
     },
     "metadata": {},
     "output_type": "display_data"
    },
    {
     "data": {
      "application/javascript": [
       "\n",
       "             window.graphdata[0]['x'].push(-7);\n",
       "             window.graphdata[0]['y'].push(4);\n",
       "          "
      ]
     },
     "metadata": {},
     "output_type": "display_data"
    },
    {
     "data": {
      "application/javascript": [
       "\n",
       "      \n",
       "       Plotly.redraw(window.tDiv);\n",
       "      \n",
       "      "
      ]
     },
     "metadata": {},
     "output_type": "display_data"
    },
    {
     "data": {
      "application/javascript": [
       "\n",
       "             window.graphdata[0]['x'].push(1);\n",
       "             window.graphdata[0]['y'].push(3);\n",
       "          "
      ]
     },
     "metadata": {},
     "output_type": "display_data"
    },
    {
     "data": {
      "application/javascript": [
       "\n",
       "      \n",
       "       Plotly.redraw(window.tDiv);\n",
       "      \n",
       "      "
      ]
     },
     "metadata": {},
     "output_type": "display_data"
    },
    {
     "data": {
      "application/javascript": [
       "\n",
       "             window.graphdata[0]['x'].push(8);\n",
       "             window.graphdata[0]['y'].push(-4);\n",
       "          "
      ]
     },
     "metadata": {},
     "output_type": "display_data"
    },
    {
     "data": {
      "application/javascript": [
       "\n",
       "      \n",
       "       Plotly.redraw(window.tDiv);\n",
       "      \n",
       "      "
      ]
     },
     "metadata": {},
     "output_type": "display_data"
    },
    {
     "data": {
      "application/javascript": [
       "\n",
       "             window.graphdata[0]['x'].push(-7);\n",
       "             window.graphdata[0]['y'].push(-8);\n",
       "          "
      ]
     },
     "metadata": {},
     "output_type": "display_data"
    },
    {
     "data": {
      "application/javascript": [
       "\n",
       "      \n",
       "       Plotly.redraw(window.tDiv);\n",
       "      \n",
       "      "
      ]
     },
     "metadata": {},
     "output_type": "display_data"
    },
    {
     "data": {
      "application/javascript": [
       "\n",
       "             window.graphdata[0]['x'].push(1);\n",
       "             window.graphdata[0]['y'].push(4);\n",
       "          "
      ]
     },
     "metadata": {},
     "output_type": "display_data"
    },
    {
     "data": {
      "application/javascript": [
       "\n",
       "      \n",
       "       Plotly.redraw(window.tDiv);\n",
       "      \n",
       "      "
      ]
     },
     "metadata": {},
     "output_type": "display_data"
    },
    {
     "data": {
      "application/javascript": [
       "\n",
       "             window.graphdata[0]['x'].push(8);\n",
       "             window.graphdata[0]['y'].push(-9);\n",
       "          "
      ]
     },
     "metadata": {},
     "output_type": "display_data"
    },
    {
     "data": {
      "application/javascript": [
       "\n",
       "      \n",
       "       Plotly.redraw(window.tDiv);\n",
       "      \n",
       "      "
      ]
     },
     "metadata": {},
     "output_type": "display_data"
    },
    {
     "data": {
      "application/javascript": [
       "\n",
       "             window.graphdata[0]['x'].push(-3);\n",
       "             window.graphdata[0]['y'].push(-5);\n",
       "          "
      ]
     },
     "metadata": {},
     "output_type": "display_data"
    },
    {
     "data": {
      "application/javascript": [
       "\n",
       "      \n",
       "       Plotly.redraw(window.tDiv);\n",
       "      \n",
       "      "
      ]
     },
     "metadata": {},
     "output_type": "display_data"
    },
    {
     "data": {
      "application/javascript": [
       "\n",
       "             window.graphdata[0]['x'].push(3);\n",
       "             window.graphdata[0]['y'].push(6);\n",
       "          "
      ]
     },
     "metadata": {},
     "output_type": "display_data"
    },
    {
     "data": {
      "application/javascript": [
       "\n",
       "      \n",
       "       Plotly.redraw(window.tDiv);\n",
       "      \n",
       "      "
      ]
     },
     "metadata": {},
     "output_type": "display_data"
    },
    {
     "data": {
      "application/javascript": [
       "\n",
       "             window.graphdata[0]['x'].push(2);\n",
       "             window.graphdata[0]['y'].push(-2);\n",
       "          "
      ]
     },
     "metadata": {},
     "output_type": "display_data"
    },
    {
     "data": {
      "application/javascript": [
       "\n",
       "      \n",
       "       Plotly.redraw(window.tDiv);\n",
       "      \n",
       "      "
      ]
     },
     "metadata": {},
     "output_type": "display_data"
    },
    {
     "data": {
      "application/javascript": [
       "\n",
       "             window.graphdata[0]['x'].push(7);\n",
       "             window.graphdata[0]['y'].push(-5);\n",
       "          "
      ]
     },
     "metadata": {},
     "output_type": "display_data"
    },
    {
     "data": {
      "application/javascript": [
       "\n",
       "      \n",
       "       Plotly.redraw(window.tDiv);\n",
       "      \n",
       "      "
      ]
     },
     "metadata": {},
     "output_type": "display_data"
    },
    {
     "data": {
      "application/javascript": [
       "\n",
       "             window.graphdata[0]['x'].push(-4);\n",
       "             window.graphdata[0]['y'].push(7);\n",
       "          "
      ]
     },
     "metadata": {},
     "output_type": "display_data"
    },
    {
     "data": {
      "application/javascript": [
       "\n",
       "      \n",
       "       Plotly.redraw(window.tDiv);\n",
       "      \n",
       "      "
      ]
     },
     "metadata": {},
     "output_type": "display_data"
    },
    {
     "data": {
      "application/javascript": [
       "\n",
       "             window.graphdata[0]['x'].push(-2);\n",
       "             window.graphdata[0]['y'].push(0);\n",
       "          "
      ]
     },
     "metadata": {},
     "output_type": "display_data"
    },
    {
     "data": {
      "application/javascript": [
       "\n",
       "      \n",
       "       Plotly.redraw(window.tDiv);\n",
       "      \n",
       "      "
      ]
     },
     "metadata": {},
     "output_type": "display_data"
    },
    {
     "data": {
      "application/javascript": [
       "\n",
       "             window.graphdata[0]['x'].push(-1);\n",
       "             window.graphdata[0]['y'].push(5);\n",
       "          "
      ]
     },
     "metadata": {},
     "output_type": "display_data"
    },
    {
     "data": {
      "application/javascript": [
       "\n",
       "      \n",
       "       Plotly.redraw(window.tDiv);\n",
       "      \n",
       "      "
      ]
     },
     "metadata": {},
     "output_type": "display_data"
    },
    {
     "data": {
      "application/javascript": [
       "\n",
       "             window.graphdata[0]['x'].push(1);\n",
       "             window.graphdata[0]['y'].push(-2);\n",
       "          "
      ]
     },
     "metadata": {},
     "output_type": "display_data"
    },
    {
     "data": {
      "application/javascript": [
       "\n",
       "      \n",
       "       Plotly.redraw(window.tDiv);\n",
       "      \n",
       "      "
      ]
     },
     "metadata": {},
     "output_type": "display_data"
    },
    {
     "data": {
      "application/javascript": [
       "\n",
       "             window.graphdata[0]['x'].push(-5);\n",
       "             window.graphdata[0]['y'].push(-5);\n",
       "          "
      ]
     },
     "metadata": {},
     "output_type": "display_data"
    },
    {
     "data": {
      "application/javascript": [
       "\n",
       "      \n",
       "       Plotly.redraw(window.tDiv);\n",
       "      \n",
       "      "
      ]
     },
     "metadata": {},
     "output_type": "display_data"
    },
    {
     "data": {
      "application/javascript": [
       "\n",
       "             window.graphdata[0]['x'].push(-5);\n",
       "             window.graphdata[0]['y'].push(4);\n",
       "          "
      ]
     },
     "metadata": {},
     "output_type": "display_data"
    },
    {
     "data": {
      "application/javascript": [
       "\n",
       "      \n",
       "       Plotly.redraw(window.tDiv);\n",
       "      \n",
       "      "
      ]
     },
     "metadata": {},
     "output_type": "display_data"
    },
    {
     "data": {
      "application/javascript": [
       "\n",
       "             window.graphdata[0]['x'].push(1);\n",
       "             window.graphdata[0]['y'].push(4);\n",
       "          "
      ]
     },
     "metadata": {},
     "output_type": "display_data"
    },
    {
     "data": {
      "application/javascript": [
       "\n",
       "      \n",
       "       Plotly.redraw(window.tDiv);\n",
       "      \n",
       "      "
      ]
     },
     "metadata": {},
     "output_type": "display_data"
    },
    {
     "data": {
      "application/javascript": [
       "\n",
       "             window.graphdata[0]['x'].push(8);\n",
       "             window.graphdata[0]['y'].push(1);\n",
       "          "
      ]
     },
     "metadata": {},
     "output_type": "display_data"
    },
    {
     "data": {
      "application/javascript": [
       "\n",
       "      \n",
       "       Plotly.redraw(window.tDiv);\n",
       "      \n",
       "      "
      ]
     },
     "metadata": {},
     "output_type": "display_data"
    },
    {
     "data": {
      "application/javascript": [
       "\n",
       "             window.graphdata[0]['x'].push(7);\n",
       "             window.graphdata[0]['y'].push(-6);\n",
       "          "
      ]
     },
     "metadata": {},
     "output_type": "display_data"
    },
    {
     "data": {
      "application/javascript": [
       "\n",
       "      \n",
       "       Plotly.redraw(window.tDiv);\n",
       "      \n",
       "      "
      ]
     },
     "metadata": {},
     "output_type": "display_data"
    },
    {
     "data": {
      "application/javascript": [
       "\n",
       "             window.graphdata[0]['x'].push(-9);\n",
       "             window.graphdata[0]['y'].push(-1);\n",
       "          "
      ]
     },
     "metadata": {},
     "output_type": "display_data"
    },
    {
     "data": {
      "application/javascript": [
       "\n",
       "      \n",
       "       Plotly.redraw(window.tDiv);\n",
       "      \n",
       "      "
      ]
     },
     "metadata": {},
     "output_type": "display_data"
    },
    {
     "data": {
      "application/javascript": [
       "\n",
       "             window.graphdata[0]['x'].push(-9);\n",
       "             window.graphdata[0]['y'].push(-5);\n",
       "          "
      ]
     },
     "metadata": {},
     "output_type": "display_data"
    },
    {
     "data": {
      "application/javascript": [
       "\n",
       "      \n",
       "       Plotly.redraw(window.tDiv);\n",
       "      \n",
       "      "
      ]
     },
     "metadata": {},
     "output_type": "display_data"
    },
    {
     "data": {
      "application/javascript": [
       "\n",
       "             window.graphdata[0]['x'].push(4);\n",
       "             window.graphdata[0]['y'].push(-3);\n",
       "          "
      ]
     },
     "metadata": {},
     "output_type": "display_data"
    },
    {
     "data": {
      "application/javascript": [
       "\n",
       "      \n",
       "       Plotly.redraw(window.tDiv);\n",
       "      \n",
       "      "
      ]
     },
     "metadata": {},
     "output_type": "display_data"
    },
    {
     "data": {
      "application/javascript": [
       "\n",
       "             window.graphdata[0]['x'].push(3);\n",
       "             window.graphdata[0]['y'].push(0);\n",
       "          "
      ]
     },
     "metadata": {},
     "output_type": "display_data"
    },
    {
     "data": {
      "application/javascript": [
       "\n",
       "      \n",
       "       Plotly.redraw(window.tDiv);\n",
       "      \n",
       "      "
      ]
     },
     "metadata": {},
     "output_type": "display_data"
    },
    {
     "data": {
      "application/javascript": [
       "\n",
       "             window.graphdata[0]['x'].push(1);\n",
       "             window.graphdata[0]['y'].push(8);\n",
       "          "
      ]
     },
     "metadata": {},
     "output_type": "display_data"
    },
    {
     "data": {
      "application/javascript": [
       "\n",
       "      \n",
       "       Plotly.redraw(window.tDiv);\n",
       "      \n",
       "      "
      ]
     },
     "metadata": {},
     "output_type": "display_data"
    },
    {
     "data": {
      "application/javascript": [
       "\n",
       "             window.graphdata[0]['x'].push(-2);\n",
       "             window.graphdata[0]['y'].push(8);\n",
       "          "
      ]
     },
     "metadata": {},
     "output_type": "display_data"
    },
    {
     "data": {
      "application/javascript": [
       "\n",
       "      \n",
       "       Plotly.redraw(window.tDiv);\n",
       "      \n",
       "      "
      ]
     },
     "metadata": {},
     "output_type": "display_data"
    },
    {
     "data": {
      "application/javascript": [
       "\n",
       "             window.graphdata[0]['x'].push(-6);\n",
       "             window.graphdata[0]['y'].push(-2);\n",
       "          "
      ]
     },
     "metadata": {},
     "output_type": "display_data"
    },
    {
     "data": {
      "application/javascript": [
       "\n",
       "      \n",
       "       Plotly.redraw(window.tDiv);\n",
       "      \n",
       "      "
      ]
     },
     "metadata": {},
     "output_type": "display_data"
    },
    {
     "data": {
      "application/javascript": [
       "\n",
       "             window.graphdata[0]['x'].push(0);\n",
       "             window.graphdata[0]['y'].push(5);\n",
       "          "
      ]
     },
     "metadata": {},
     "output_type": "display_data"
    },
    {
     "data": {
      "application/javascript": [
       "\n",
       "      \n",
       "       Plotly.redraw(window.tDiv);\n",
       "      \n",
       "      "
      ]
     },
     "metadata": {},
     "output_type": "display_data"
    },
    {
     "data": {
      "application/javascript": [
       "\n",
       "             window.graphdata[0]['x'].push(7);\n",
       "             window.graphdata[0]['y'].push(-3);\n",
       "          "
      ]
     },
     "metadata": {},
     "output_type": "display_data"
    },
    {
     "data": {
      "application/javascript": [
       "\n",
       "      \n",
       "       Plotly.redraw(window.tDiv);\n",
       "      \n",
       "      "
      ]
     },
     "metadata": {},
     "output_type": "display_data"
    },
    {
     "data": {
      "application/javascript": [
       "\n",
       "             window.graphdata[0]['x'].push(8);\n",
       "             window.graphdata[0]['y'].push(8);\n",
       "          "
      ]
     },
     "metadata": {},
     "output_type": "display_data"
    },
    {
     "data": {
      "application/javascript": [
       "\n",
       "      \n",
       "       Plotly.redraw(window.tDiv);\n",
       "      \n",
       "      "
      ]
     },
     "metadata": {},
     "output_type": "display_data"
    },
    {
     "data": {
      "text/plain": [
       "\u001b[36mres9\u001b[39m: {val div: String;val jsCode: String} = $sess.cmd9Wrapper$Helper$$anon$1@6b57e0b2"
      ]
     },
     "execution_count": 10,
     "metadata": {},
     "output_type": "execute_result"
    }
   ],
   "source": [
    "  new {\n",
    "    val div = \"plot-div-123\"\n",
    "    publish.html(s\"\"\"<div class=\"chart\" id=\"$div\"></div>\"\"\")\n",
    "    \n",
    "    val jsCode = s\"\"\"\n",
    "       window.tDiv = document.getElementById('$div');\n",
    "     \n",
    "     \"\"\"\n",
    "      publish.javascript(jsCode)\n",
    "      \n",
    "      publish.javascript(\"\"\"\n",
    "      window.graphdata = [{\n",
    "        x: [1, 2, 3, 4, 5], // in reality I have more values...\n",
    "        y: [1, 2, 4, 8, 16],\n",
    "        type: 'scatter'\n",
    "      }];\n",
    "      \n",
    "      \"\"\")\n",
    "      \n",
    "      publish.javascript(s\"\"\"\n",
    "      \n",
    "       Plotly.newPlot(tDiv, window.graphdata, \n",
    "      {\n",
    "      margin: { t: 0 } } );\n",
    "      \n",
    "      \"\"\")\n",
    "\n",
    "      (0 to 100).foreach {i =>\n",
    "         Thread.sleep(100)\n",
    "         val x = scala.util.Random.nextInt()%10\n",
    "         val y = scala.util.Random.nextInt()%10\n",
    "         publish.javascript(s\"\"\"\n",
    "             window.graphdata[0]['x'].push($x);\n",
    "             window.graphdata[0]['y'].push($y);\n",
    "          \"\"\")          \n",
    "           publish.javascript(\"\"\"\n",
    "      \n",
    "       Plotly.redraw(window.tDiv);\n",
    "      \n",
    "      \"\"\")\n",
    "\n",
    "      }\n",
    "      \n",
    "  }\n"
   ]
  },
  {
   "cell_type": "code",
   "execution_count": 77,
   "metadata": {},
   "outputs": [
    {
     "data": {
      "text/html": [
       "<div class=\"chart\" id=\"plot-733239770\"></div>"
      ]
     },
     "metadata": {},
     "output_type": "display_data"
    },
    {
     "data": {
      "application/javascript": [
       "requirejs([\"plotly\"], function(Plotly) {\n",
       "  (function () {\n",
       "  var data0 = {\"type\":\"scatter\",\"x\":[],\"y\":[],\"marker\":{\"size\":[]}};\n",
       "\n",
       "  var data = [data0];\n",
       "  var layout = {};\n",
       "\n",
       "  var p = Plotly.plot('plot-733239770', data, layout);\n",
       "Promise.resolve(p);\n",
       "})();\n",
       "});\n",
       "      "
      ]
     },
     "metadata": {},
     "output_type": "display_data"
    },
    {
     "data": {
      "application/javascript": [
       "requirejs([\"plotly\"], function(Plotly) {\n",
       "  (function () {\n",
       "Plotly.extendTraces(\n",
       "  'plot-733239770',\n",
       "  {\n",
       "    x: [[0.4183859441053579]],\n",
       "    y: [[-1.3202370373493901]],\n",
       "    'marker.size': [[4]]\n",
       "  },\n",
       "  [0]\n",
       ");\n",
       "})();\n",
       "});\n",
       "      "
      ]
     },
     "metadata": {},
     "output_type": "display_data"
    },
    {
     "data": {
      "application/javascript": [
       "requirejs([\"plotly\"], function(Plotly) {\n",
       "  (function () {\n",
       "Plotly.extendTraces(\n",
       "  'plot-733239770',\n",
       "  {\n",
       "    x: [[-0.34828416028566606]],\n",
       "    y: [[-1.3098458211023831]],\n",
       "    'marker.size': [[19]]\n",
       "  },\n",
       "  [0]\n",
       ");\n",
       "})();\n",
       "});\n",
       "      "
      ]
     },
     "metadata": {},
     "output_type": "display_data"
    },
    {
     "data": {
      "application/javascript": [
       "requirejs([\"plotly\"], function(Plotly) {\n",
       "  (function () {\n",
       "Plotly.extendTraces(\n",
       "  'plot-733239770',\n",
       "  {\n",
       "    x: [[-2.295751634412371]],\n",
       "    y: [[0.07236082662353048]],\n",
       "    'marker.size': [[38]]\n",
       "  },\n",
       "  [0]\n",
       ");\n",
       "})();\n",
       "});\n",
       "      "
      ]
     },
     "metadata": {},
     "output_type": "display_data"
    },
    {
     "data": {
      "application/javascript": [
       "requirejs([\"plotly\"], function(Plotly) {\n",
       "  (function () {\n",
       "Plotly.extendTraces(\n",
       "  'plot-733239770',\n",
       "  {\n",
       "    x: [[-0.6759771716608652]],\n",
       "    y: [[-0.32379462647806395]],\n",
       "    'marker.size': [[33]]\n",
       "  },\n",
       "  [0]\n",
       ");\n",
       "})();\n",
       "});\n",
       "      "
      ]
     },
     "metadata": {},
     "output_type": "display_data"
    },
    {
     "data": {
      "application/javascript": [
       "requirejs([\"plotly\"], function(Plotly) {\n",
       "  (function () {\n",
       "Plotly.extendTraces(\n",
       "  'plot-733239770',\n",
       "  {\n",
       "    x: [[-0.180739279229731]],\n",
       "    y: [[0.16256604451367795]],\n",
       "    'marker.size': [[92]]\n",
       "  },\n",
       "  [0]\n",
       ");\n",
       "})();\n",
       "});\n",
       "      "
      ]
     },
     "metadata": {},
     "output_type": "display_data"
    },
    {
     "data": {
      "application/javascript": [
       "requirejs([\"plotly\"], function(Plotly) {\n",
       "  (function () {\n",
       "Plotly.extendTraces(\n",
       "  'plot-733239770',\n",
       "  {\n",
       "    x: [[1.617663222311893]],\n",
       "    y: [[0.006403228925144993]],\n",
       "    'marker.size': [[67]]\n",
       "  },\n",
       "  [0]\n",
       ");\n",
       "})();\n",
       "});\n",
       "      "
      ]
     },
     "metadata": {},
     "output_type": "display_data"
    },
    {
     "data": {
      "application/javascript": [
       "requirejs([\"plotly\"], function(Plotly) {\n",
       "  (function () {\n",
       "Plotly.extendTraces(\n",
       "  'plot-733239770',\n",
       "  {\n",
       "    x: [[0.22366403013952807]],\n",
       "    y: [[-0.23053757575857048]],\n",
       "    'marker.size': [[91]]\n",
       "  },\n",
       "  [0]\n",
       ");\n",
       "})();\n",
       "});\n",
       "      "
      ]
     },
     "metadata": {},
     "output_type": "display_data"
    },
    {
     "data": {
      "application/javascript": [
       "requirejs([\"plotly\"], function(Plotly) {\n",
       "  (function () {\n",
       "Plotly.extendTraces(\n",
       "  'plot-733239770',\n",
       "  {\n",
       "    x: [[-1.8451492297058356]],\n",
       "    y: [[-0.7100580098144578]],\n",
       "    'marker.size': [[1]]\n",
       "  },\n",
       "  [0]\n",
       ");\n",
       "})();\n",
       "});\n",
       "      "
      ]
     },
     "metadata": {},
     "output_type": "display_data"
    },
    {
     "data": {
      "application/javascript": [
       "requirejs([\"plotly\"], function(Plotly) {\n",
       "  (function () {\n",
       "Plotly.extendTraces(\n",
       "  'plot-733239770',\n",
       "  {\n",
       "    x: [[0.45044959128243167]],\n",
       "    y: [[1.3670688593771767]],\n",
       "    'marker.size': [[0]]\n",
       "  },\n",
       "  [0]\n",
       ");\n",
       "})();\n",
       "});\n",
       "      "
      ]
     },
     "metadata": {},
     "output_type": "display_data"
    },
    {
     "data": {
      "application/javascript": [
       "requirejs([\"plotly\"], function(Plotly) {\n",
       "  (function () {\n",
       "Plotly.extendTraces(\n",
       "  'plot-733239770',\n",
       "  {\n",
       "    x: [[-0.279608231240498]],\n",
       "    y: [[1.1396337140065231]],\n",
       "    'marker.size': [[55]]\n",
       "  },\n",
       "  [0]\n",
       ");\n",
       "})();\n",
       "});\n",
       "      "
      ]
     },
     "metadata": {},
     "output_type": "display_data"
    },
    {
     "data": {
      "application/javascript": [
       "requirejs([\"plotly\"], function(Plotly) {\n",
       "  (function () {\n",
       "Plotly.extendTraces(\n",
       "  'plot-733239770',\n",
       "  {\n",
       "    x: [[-0.46485921263514823]],\n",
       "    y: [[-0.6494248913594148]],\n",
       "    'marker.size': [[72]]\n",
       "  },\n",
       "  [0]\n",
       ");\n",
       "})();\n",
       "});\n",
       "      "
      ]
     },
     "metadata": {},
     "output_type": "display_data"
    },
    {
     "data": {
      "application/javascript": [
       "requirejs([\"plotly\"], function(Plotly) {\n",
       "  (function () {\n",
       "Plotly.extendTraces(\n",
       "  'plot-733239770',\n",
       "  {\n",
       "    x: [[-0.2711822155641646]],\n",
       "    y: [[-1.1579137245006519]],\n",
       "    'marker.size': [[37]]\n",
       "  },\n",
       "  [0]\n",
       ");\n",
       "})();\n",
       "});\n",
       "      "
      ]
     },
     "metadata": {},
     "output_type": "display_data"
    },
    {
     "data": {
      "application/javascript": [
       "requirejs([\"plotly\"], function(Plotly) {\n",
       "  (function () {\n",
       "Plotly.extendTraces(\n",
       "  'plot-733239770',\n",
       "  {\n",
       "    x: [[-0.40403778277087526]],\n",
       "    y: [[-1.1023252679836648]],\n",
       "    'marker.size': [[89]]\n",
       "  },\n",
       "  [0]\n",
       ");\n",
       "})();\n",
       "});\n",
       "      "
      ]
     },
     "metadata": {},
     "output_type": "display_data"
    },
    {
     "data": {
      "application/javascript": [
       "requirejs([\"plotly\"], function(Plotly) {\n",
       "  (function () {\n",
       "Plotly.extendTraces(\n",
       "  'plot-733239770',\n",
       "  {\n",
       "    x: [[-1.1389946067443146]],\n",
       "    y: [[1.6736688375024686]],\n",
       "    'marker.size': [[7]]\n",
       "  },\n",
       "  [0]\n",
       ");\n",
       "})();\n",
       "});\n",
       "      "
      ]
     },
     "metadata": {},
     "output_type": "display_data"
    },
    {
     "data": {
      "application/javascript": [
       "requirejs([\"plotly\"], function(Plotly) {\n",
       "  (function () {\n",
       "Plotly.extendTraces(\n",
       "  'plot-733239770',\n",
       "  {\n",
       "    x: [[0.45317942908370257]],\n",
       "    y: [[-0.08110226927135546]],\n",
       "    'marker.size': [[44]]\n",
       "  },\n",
       "  [0]\n",
       ");\n",
       "})();\n",
       "});\n",
       "      "
      ]
     },
     "metadata": {},
     "output_type": "display_data"
    },
    {
     "data": {
      "application/javascript": [
       "requirejs([\"plotly\"], function(Plotly) {\n",
       "  (function () {\n",
       "Plotly.extendTraces(\n",
       "  'plot-733239770',\n",
       "  {\n",
       "    x: [[-2.580209203719929]],\n",
       "    y: [[0.7343332027918218]],\n",
       "    'marker.size': [[54]]\n",
       "  },\n",
       "  [0]\n",
       ");\n",
       "})();\n",
       "});\n",
       "      "
      ]
     },
     "metadata": {},
     "output_type": "display_data"
    },
    {
     "data": {
      "application/javascript": [
       "requirejs([\"plotly\"], function(Plotly) {\n",
       "  (function () {\n",
       "Plotly.extendTraces(\n",
       "  'plot-733239770',\n",
       "  {\n",
       "    x: [[-0.48361239389289284]],\n",
       "    y: [[-0.11267294798016617]],\n",
       "    'marker.size': [[63]]\n",
       "  },\n",
       "  [0]\n",
       ");\n",
       "})();\n",
       "});\n",
       "      "
      ]
     },
     "metadata": {},
     "output_type": "display_data"
    },
    {
     "data": {
      "application/javascript": [
       "requirejs([\"plotly\"], function(Plotly) {\n",
       "  (function () {\n",
       "Plotly.extendTraces(\n",
       "  'plot-733239770',\n",
       "  {\n",
       "    x: [[1.1627891418365688]],\n",
       "    y: [[2.4020966155101897]],\n",
       "    'marker.size': [[53]]\n",
       "  },\n",
       "  [0]\n",
       ");\n",
       "})();\n",
       "});\n",
       "      "
      ]
     },
     "metadata": {},
     "output_type": "display_data"
    },
    {
     "data": {
      "application/javascript": [
       "requirejs([\"plotly\"], function(Plotly) {\n",
       "  (function () {\n",
       "Plotly.extendTraces(\n",
       "  'plot-733239770',\n",
       "  {\n",
       "    x: [[-0.08513064374472085]],\n",
       "    y: [[0.4040910649743981]],\n",
       "    'marker.size': [[24]]\n",
       "  },\n",
       "  [0]\n",
       ");\n",
       "})();\n",
       "});\n",
       "      "
      ]
     },
     "metadata": {},
     "output_type": "display_data"
    },
    {
     "data": {
      "application/javascript": [
       "requirejs([\"plotly\"], function(Plotly) {\n",
       "  (function () {\n",
       "Plotly.extendTraces(\n",
       "  'plot-733239770',\n",
       "  {\n",
       "    x: [[-0.5438374148714707]],\n",
       "    y: [[-0.1377064499264475]],\n",
       "    'marker.size': [[97]]\n",
       "  },\n",
       "  [0]\n",
       ");\n",
       "})();\n",
       "});\n",
       "      "
      ]
     },
     "metadata": {},
     "output_type": "display_data"
    },
    {
     "data": {
      "text/plain": [
       "\u001b[36mres76\u001b[39m: {val div: String} = $sess.cmd76Wrapper$Helper$$anon$1@7d1b85c4"
      ]
     },
     "execution_count": 77,
     "metadata": {},
     "output_type": "execute_result"
    }
   ],
   "source": [
    "  new {\n",
    "\n",
    "    import mlworthing._\n",
    "    import plotly.Extra._\n",
    "\n",
    "    import mlworthing._\n",
    "    import plotly.Extra._\n",
    "    import scala.util.Random._\n",
    "\n",
    "    val div = Scatter(\n",
    "      List[Double](),\n",
    "      List[Double](),\n",
    "      marker = Marker(\n",
    "        size = Seq()\n",
    "      )\n",
    "    ).plot()\n",
    "\n",
    "    //AAA if draw more than 18 markers all of them disappear ...\n",
    "    (0 to 19) foreach { i =>\n",
    "      Thread.sleep(100)\n",
    "      val update = Update(\n",
    "        x = Seq[Sequence](List(nextGaussian())),\n",
    "        y = Seq[Sequence](List(nextGaussian())),\n",
    "        `marker.size` = Seq[OneOrSeq[Int]](List((nextInt().abs.toInt + 1) % 100))\n",
    "      )\n",
    "//       extendTracesJs(div, update, List(0)) |> println\n",
    "      extendTraces(div, update, List(0))\n",
    "    }\n",
    "\n",
    "      \n",
    "  }\n"
   ]
  },
  {
   "cell_type": "code",
   "execution_count": 78,
   "metadata": {},
   "outputs": [
    {
     "data": {
      "text/html": [
       "<div class=\"chart\" id=\"theDiv\"></div>"
      ]
     },
     "metadata": {},
     "output_type": "display_data"
    }
   ],
   "source": [
    "publish.html(s\"\"\"<div class=\"chart\" id=\"theDiv\"></div>\"\"\")\n"
   ]
  }
 ],
 "metadata": {
  "kernelspec": {
   "display_name": "Scala",
   "language": "scala",
   "name": "scala"
  },
  "language_info": {
   "codemirror_mode": "text/x-scala",
   "file_extension": ".scala",
   "mimetype": "text/x-scala",
   "name": "scala211",
   "nbconvert_exporter": "script",
   "pygments_lexer": "scala",
   "version": "2.11.11"
  }
 },
 "nbformat": 4,
 "nbformat_minor": 2
}
