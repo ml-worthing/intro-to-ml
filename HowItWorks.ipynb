{
 "cells": [
  {
   "cell_type": "markdown",
   "metadata": {},
   "source": [
    "# Print scala version used by this notebook"
   ]
  },
  {
   "cell_type": "code",
   "execution_count": 6,
   "metadata": {},
   "outputs": [
    {
     "data": {
      "text/plain": [
       "\u001b[36mlist\u001b[39m: \u001b[32mList\u001b[39m[\u001b[32mInt\u001b[39m] = \u001b[33mList\u001b[39m(\u001b[32m12\u001b[39m, \u001b[32m3\u001b[39m, \u001b[32m4\u001b[39m)"
      ]
     },
     "execution_count": 6,
     "metadata": {},
     "output_type": "execute_result"
    }
   ],
   "source": [
    "val list = List(12,3,4)"
   ]
  },
  {
   "cell_type": "code",
   "execution_count": 7,
   "metadata": {},
   "outputs": [
    {
     "name": "stdout",
     "output_type": "stream",
     "text": [
      "using scala version: 2.11.11\n"
     ]
    }
   ],
   "source": [
    "println(s\"\"\"using scala version: ${scala.util.Properties.scalaPropOrElse(\"version.number\", \"unknown\")}\"\"\")"
   ]
  },
  {
   "cell_type": "markdown",
   "metadata": {},
   "source": [
    "# Import project's library\n",
    "\n",
    "First you need to publis it into local *ivy* repository by calling \n",
    "\n",
    "```\n",
    "sbt clean test publishLocal\n",
    "```\n",
    "\n",
    "**<font color='red'>! After changes in library you need to restart kernel</font>**\n"
   ]
  },
  {
   "cell_type": "code",
   "execution_count": 1,
   "metadata": {},
   "outputs": [
    {
     "data": {
      "text/plain": [
       "\u001b[36mres0_0\u001b[39m: {val userHome: String;val tesnsorflowV: String;val scalaV: String;val pathToJar: String} = $sess.cmd0Wrapper$Helper$$anon$1@2d0e3719\n",
       "\u001b[36mossSnapshots\u001b[39m: \u001b[32mResolver\u001b[39m.\u001b[32mHttp\u001b[39m = \u001b[33mHttp\u001b[39m(\n",
       "  \u001b[32m\"oss-snapshots\"\u001b[39m,\n",
       "  \u001b[32m\"https://oss.sonatype.org/content/repositories/snapshots\"\u001b[39m,\n",
       "  \u001b[32m\"[organisation]/[module]/(scala_[scalaVersion]/)(sbt_[sbtVersion]/)[revision]/[type]s/[artifact](-[classifier]).[ext]\"\u001b[39m,\n",
       "  \u001b[32mtrue\u001b[39m,\n",
       "  None\n",
       ")"
      ]
     },
     "execution_count": 1,
     "metadata": {},
     "output_type": "execute_result"
    }
   ],
   "source": [
    "//workaround to load tensorflow_2.11-0.1.1-SNAPSHOT-linux-cpu-x86_64.jar\n",
    "//by default ammonium can't resolve this artifact :|\n",
    "\n",
    "new {\n",
    "    val userHome = System.getProperty(\"user.home\")\n",
    "    val tesnsorflowV = \"0.1.1-SNAPSHOT\"\n",
    "    val scalaV = \"2.11\"\n",
    "    val pathToJar = s\"$userHome/.coursier/cache/v1/https/oss.sonatype.org/content/repositories/snapshots/org/platanios/tensorflow_$scalaV/$tesnsorflowV/tensorflow_$scalaV-$tesnsorflowV-linux-cpu-x86_64.jar\"\n",
    "    interp.load.cp(\n",
    "      Seq(\n",
    "        ammonite.ops.Path(pathToJar)\n",
    "      )\n",
    "    )\n",
    "}\n",
    "\n",
    "val ossSnapshots = ammonite.runtime.tools.Resolver.Http(\n",
    "  \"oss-snapshots\",\n",
    "  \"https://oss.sonatype.org/content/repositories/snapshots\", //trailing slash!\n",
    "  ammonite.runtime.tools.Resolvers.IvyPattern,\n",
    "  true\n",
    ")\n",
    "\n",
    "interp.resolvers() = interp.resolvers() :+ ossSnapshots\n"
   ]
  },
  {
   "cell_type": "code",
   "execution_count": 5,
   "metadata": {},
   "outputs": [
    {
     "data": {
      "text/html": [
       "\n",
       "      <script type=\"text/javascript\">\n",
       "        require.config({\n",
       "  paths: {\n",
       "    d3: 'https://cdnjs.cloudflare.com/ajax/libs/d3/3.5.17/d3.min',\n",
       "    plotly: 'https://cdn.plot.ly/plotly-1.12.0.min'\n",
       "  },\n",
       "\n",
       "  shim: {\n",
       "    plotly: {\n",
       "      deps: ['d3', 'jquery'],\n",
       "      exports: 'plotly'\n",
       "    }\n",
       "  }\n",
       "});\n",
       "        \n",
       "\n",
       "        require(['plotly'], function(Plotly) {\n",
       "          window.Plotly = Plotly;\n",
       "        });\n",
       "      </script>\n",
       "    "
      ]
     },
     "metadata": {},
     "output_type": "display_data"
    },
    {
     "data": {
      "text/plain": [
       "\u001b[32mimport \u001b[39m\u001b[36m$ivy.$                                    \n",
       "\u001b[39m\n",
       "\u001b[32mimport \u001b[39m\u001b[36mmlworthing._\n",
       "\u001b[39m\n",
       "\u001b[32mimport \u001b[39m\u001b[36mplotly.Extra._\n",
       "\n",
       "\u001b[39m\n",
       "\u001b[32mimport \u001b[39m\u001b[36morg.platanios.tensorflow.api\n",
       "\u001b[39m\n",
       "\u001b[32mimport \u001b[39m\u001b[36morg.platanios.tensorflow.api._\n",
       "\u001b[39m\n",
       "\u001b[32mimport \u001b[39m\u001b[36morg.platanios.tensorflow.api.core.client.FeedMap\n",
       "\n",
       "\u001b[39m\n",
       "\u001b[32mimport \u001b[39m\u001b[36mplotly._\n",
       "\u001b[39m\n",
       "\u001b[32mimport \u001b[39m\u001b[36mplotly.element._\n",
       "\u001b[39m\n",
       "\u001b[32mimport \u001b[39m\u001b[36mplotly.layout._\n",
       "\u001b[39m\n",
       "\u001b[32mimport \u001b[39m\u001b[36mplotly.JupyterScala._\n",
       "\u001b[39m\n",
       "\u001b[32mimport \u001b[39m\u001b[36mplotly.element.Orientation._\n",
       "\n",
       "\u001b[39m"
      ]
     },
     "execution_count": 5,
     "metadata": {},
     "output_type": "execute_result"
    }
   ],
   "source": [
    "//this must be in seperate cell than defining resolver !\n",
    "\n",
    "import $ivy.`ml-worthing::introtoml:0.1-SNAPSHOT`\n",
    "import mlworthing._\n",
    "import plotly.Extra._\n",
    "\n",
    "import org.platanios.tensorflow.api\n",
    "import org.platanios.tensorflow.api._\n",
    "import org.platanios.tensorflow.api.core.client.FeedMap\n",
    "\n",
    "import plotly._\n",
    "import plotly.element._\n",
    "import plotly.layout._\n",
    "import plotly.JupyterScala._\n",
    "import plotly.element.Orientation._\n",
    "\n",
    "plotly.JupyterScala.init()"
   ]
  },
  {
   "cell_type": "code",
   "execution_count": 6,
   "metadata": {},
   "outputs": [
    {
     "name": "stdout",
     "output_type": "stream",
     "text": [
      "Compiling Commons.sc\n"
     ]
    },
    {
     "data": {
      "text/plain": [
       "\u001b[32mimport \u001b[39m\u001b[36m$file.$      \n",
       "\n",
       "\u001b[39m\n",
       "\u001b[36mres5_1\u001b[39m: \u001b[32mString\u001b[39m = \u001b[32m\"mlworthing package object 2\"\u001b[39m"
      ]
     },
     "execution_count": 6,
     "metadata": {},
     "output_type": "execute_result"
    }
   ],
   "source": [
    "//this is how to import script\n",
    "import $file.Commons\n",
    "\n",
    "mlworthing.test"
   ]
  },
  {
   "cell_type": "markdown",
   "metadata": {},
   "source": [
    "## showTable() - prints arrays as HTML\n"
   ]
  },
  {
   "cell_type": "code",
   "execution_count": 8,
   "metadata": {},
   "outputs": [
    {
     "data": {
      "text/html": [
       "<table>\n",
       "        <tr>\n",
       "          <th>\n",
       "            some numbers\n",
       "          </th>\n",
       "        </tr>\n",
       "        <tr><td>5.3223</td></tr><tr><td>2.343</td></tr><tr><td>4.0</td></tr><tr><td>56.0</td></tr><tr><td>7.0</td></tr><tr><td>3.0</td></tr><tr><td>4.0</td></tr><tr><td>-1.0</td></tr>\n",
       "      </table>"
      ]
     },
     "metadata": {},
     "output_type": "display_data"
    },
    {
     "data": {
      "text/html": [
       "<table>\n",
       "        <tr>\n",
       "          <th>\n",
       "          char\n",
       "        </th><th>\n",
       "          number\n",
       "        </th><th>\n",
       "          some value\n",
       "        </th>\n",
       "        </tr><tr>\n",
       "          <td>\n",
       "          99.0\n",
       "        </td><td>\n",
       "          123.0\n",
       "        </td><td>\n",
       "          0.001\n",
       "        </td>\n",
       "        </tr><tr>\n",
       "          <td>\n",
       "          98.0\n",
       "        </td><td>\n",
       "          555.0\n",
       "        </td><td>\n",
       "          0.003\n",
       "        </td>\n",
       "        </tr><tr>\n",
       "          <td>\n",
       "          101.0\n",
       "        </td><td>\n",
       "          666.0\n",
       "        </td><td>\n",
       "          0.006\n",
       "        </td>\n",
       "        </tr>\n",
       "      </table>"
      ]
     },
     "metadata": {},
     "output_type": "display_data"
    }
   ],
   "source": [
    "Array(5.3223,2.343,4,56,7,3,4.00,-1.00).showTable(\"some numbers\")\n",
    "Array(\n",
    "  Array('c', 123, 0.001),\n",
    "  Array('b', 555, 0.003),\n",
    "  Array('e', 666, 0.006)    \n",
    ").showTable(\"char\", \"number\", \"some value\")\n"
   ]
  },
  {
   "cell_type": "markdown",
   "metadata": {},
   "source": [
    "## Pipe Operator"
   ]
  },
  {
   "cell_type": "code",
   "execution_count": 9,
   "metadata": {},
   "outputs": [
    {
     "data": {
      "text/html": [
       "Worthing is awesome ❤️❤️❤️❤️❤️"
      ]
     },
     "metadata": {},
     "output_type": "display_data"
    }
   ],
   "source": [
    "\"Worthing is awesome ❤️❤️❤️❤️❤️\" |> publish.html"
   ]
  },
  {
   "cell_type": "markdown",
   "metadata": {},
   "source": [
    "## Plotting\n",
    "\n",
    "### plotty\n",
    "* https://github.com/alexarchambault/plotly-scala\n",
    "* https://alexarchambault.github.io/plotly-scala/\n",
    "* https://images.plot.ly/plotly-documentation/images/plotly_js_cheat_sheet.pdf\n",
    "* doc https://plot.ly/javascript/\n",
    "\n",
    "* **<font color='red'>requires custom plotly scala build**</font>\n",
    "    * fork here: https://github.com/pawelpanasewicz/plotly-scala\n",
    "    * how to publish: `sbt ++2.11.8 clean publishLocal`\n"
   ]
  },
  {
   "cell_type": "code",
   "execution_count": 7,
   "metadata": {},
   "outputs": [
    {
     "data": {
      "text/html": [
       "\n",
       "      <script type=\"text/javascript\">\n",
       "        require.config({\n",
       "  paths: {\n",
       "    d3: 'https://cdnjs.cloudflare.com/ajax/libs/d3/3.5.17/d3.min',\n",
       "    plotly: 'https://cdn.plot.ly/plotly-1.31.2.min'\n",
       "  },\n",
       "\n",
       "  shim: {\n",
       "    plotly: {\n",
       "      deps: ['d3', 'jquery'],\n",
       "      exports: 'plotly'\n",
       "    }\n",
       "  }\n",
       "});\n",
       "        \n",
       "\n",
       "        require(['plotly'], function(Plotly) {\n",
       "          window.Plotly = Plotly;\n",
       "        });\n",
       "      </script>\n",
       "    "
      ]
     },
     "metadata": {},
     "output_type": "display_data"
    },
    {
     "data": {
      "text/html": [
       "<div class=\"chart\" id=\"plot-903517729\"></div>"
      ]
     },
     "metadata": {},
     "output_type": "display_data"
    },
    {
     "data": {
      "application/javascript": [
       "requirejs([\"plotly\"], function(Plotly) {\n",
       "  (function () {\n",
       "  var data0 = {\"type\":\"bar\",\"x\":[\"Banana\",\"Apple\",\"Grapefruit\"],\"y\":[10.0,8.0,15.0]};\n",
       "\n",
       "  var data = [data0];\n",
       "  var layout = {};\n",
       "\n",
       "  var p = Plotly.plot('plot-903517729', data, layout);\n",
       "Promise.resolve(p);\n",
       "})();\n",
       "});\n",
       "      "
      ]
     },
     "metadata": {},
     "output_type": "display_data"
    },
    {
     "data": {
      "text/html": [
       "<div class=\"chart\" id=\"plot-652939709\"></div>"
      ]
     },
     "metadata": {},
     "output_type": "display_data"
    },
    {
     "data": {
      "application/javascript": [
       "requirejs([\"plotly\"], function(Plotly) {\n",
       "  (function () {\n",
       "  var data0 = {\"type\":\"scatter\",\"x\":[0.0,0.3,0.6,0.8999999999999999,1.2,1.5,1.7999999999999998,2.1,2.4,2.6999999999999997,3.0,3.3,3.5999999999999996,3.9,4.2,4.5,4.8,5.1,5.3999999999999995,5.7,6.0,6.3,6.6,6.8999999999999995,7.199999999999999,7.5,7.8,8.1,8.4,8.7,9.0,9.299999999999999,9.6,9.9],\"y\":[-1.4993363915232865,1.0361026415267616,2.367226279129495,1.9072451011646188,2.46850377790824,3.2281543702827022,3.844769731630186,3.8213435067109316,4.9489438505540075,4.69488600345651,5.299994772648717,6.7849038947774885,7.116386771265056,8.63941140810475,10.008660784099778,8.810248610199093,10.156265501384903,11.681109047800774,11.25497492632697,12.196270558211243,11.230543646384694,11.83327070577049,10.891206484194813,12.608463605891561,16.09949550082715,14.246162534062279,15.946296822427833,18.219494752938555,16.187024874044273,16.09265344526642,18.816255631597524,18.649940936646054,20.834874731083314,20.065722978008363],\"mode\":\"markers\",\"name\":\"Approx twice\"};\n",
       "  var data1 = {\"type\":\"scatter\",\"x\":[0.0,0.4,0.8,1.2000000000000002,1.6,2.0,2.4000000000000004,2.8000000000000003,3.2,3.6,4.0,4.4,4.800000000000001],\"y\":[1.0,1.4918246976412703,2.225540928492468,3.320116922736548,4.953032424395115,7.38905609893065,11.023176380641601,16.444646771097048,24.53253019710934,36.598234443677974,54.598150033144215,81.45086866496807,121.51041751873485],\"mode\":\"markers\",\"name\":\"Exp\"};\n",
       "\n",
       "  var data = [data0, data1];\n",
       "  var layout = {};\n",
       "\n",
       "  var p = Plotly.plot('plot-652939709', data, layout);\n",
       "Promise.resolve(p);\n",
       "})();\n",
       "});\n",
       "      "
      ]
     },
     "metadata": {},
     "output_type": "display_data"
    },
    {
     "data": {
      "text/plain": [
       "\u001b[32mimport \u001b[39m\u001b[36m$ivy.$                                                      \n",
       "\n",
       "\u001b[39m\n",
       "\u001b[32mimport \u001b[39m\u001b[36mplotly._\n",
       "\u001b[39m\n",
       "\u001b[32mimport \u001b[39m\u001b[36mplotly.element._\n",
       "\u001b[39m\n",
       "\u001b[32mimport \u001b[39m\u001b[36mplotly.layout._\n",
       "\u001b[39m\n",
       "\u001b[32mimport \u001b[39m\u001b[36mplotly.JupyterScala._\n",
       "\u001b[39m\n",
       "\u001b[32mimport \u001b[39m\u001b[36mplotly.element.Orientation._\n",
       "\n",
       "\n",
       "\u001b[39m\n",
       "\u001b[36mres6_7\u001b[39m: {val x: Seq[String];val y: Seq[Int]} = $sess.cmd6Wrapper$Helper$$anon$1@5395be16\n",
       "\u001b[36mres6_8\u001b[39m: {val x1: scala.collection.immutable.NumericRange[Double];val y1: scala.collection.immutable.IndexedSeq[Double];val x2: scala.collection.immutable.NumericRange[Double];val y2: scala.collection.immutable.IndexedSeq[Double];val plot: Seq[plotly.Scatter]} = $sess.cmd6Wrapper$Helper$$anon$3@35fdabbe"
      ]
     },
     "execution_count": 7,
     "metadata": {},
     "output_type": "execute_result"
    }
   ],
   "source": [
    "import $ivy.`org.plotly-scala::plotly-jupyter-scala:0.3.4-SNAPSHOT`\n",
    "\n",
    "import plotly._\n",
    "import plotly.element._\n",
    "import plotly.layout._\n",
    "import plotly.JupyterScala._\n",
    "import plotly.element.Orientation._\n",
    "\n",
    "\n",
    "plotly.JupyterScala.init()\n",
    "\n",
    "new {\n",
    "    val (x, y) = Seq(\n",
    "      \"Banana\" -> 10,\n",
    "      \"Apple\" -> 8,\n",
    "      \"Grapefruit\" -> 15\n",
    "    ).unzip\n",
    "\n",
    "    Bar(x, y).plot()\n",
    "\n",
    "}\n",
    "\n",
    "new {\n",
    "    val x1 = (0.0 to 10.0 by 0.3)\n",
    "    val y1 = x1.map(d => 2.0 * d + util.Random.nextGaussian())\n",
    "\n",
    "    val x2 = (0.0 to 5.0 by 0.4)\n",
    "    val y2 = x2.map(math.exp)\n",
    "\n",
    "    val plot = Seq(\n",
    "      Scatter(\n",
    "        x1, y1,\n",
    "        name = \"Approx twice\",\n",
    "        mode = ScatterMode(ScatterMode.Markers)\n",
    "      ),\n",
    "      Scatter(\n",
    "        x2, y2, \n",
    "        name = \"Exp\",\n",
    "        mode = ScatterMode(ScatterMode.Markers)\n",
    "\n",
    "      )\n",
    "    )\n",
    "    plot.plot()\n",
    "}\n"
   ]
  },
  {
   "cell_type": "markdown",
   "metadata": {},
   "source": [
    "## calling javascript"
   ]
  },
  {
   "cell_type": "code",
   "execution_count": 8,
   "metadata": {
    "scrolled": true
   },
   "outputs": [
    {
     "data": {
      "application/javascript": [
       "console.info('asdfasdf123')"
      ]
     },
     "metadata": {},
     "output_type": "display_data"
    }
   ],
   "source": [
    "publish.js(\"console.info('asdfasdf123')\")"
   ]
  },
  {
   "cell_type": "markdown",
   "metadata": {},
   "source": [
    "## using plotly.js API and updating graph\n",
    "* http://www.mzan.com/article/35946484-most-performant-way-to-update-graph-with-new-data-with-plotly.shtml\n"
   ]
  },
  {
   "cell_type": "code",
   "execution_count": 16,
   "metadata": {},
   "outputs": [
    {
     "data": {
      "text/html": [
       "<div class=\"chart\" id=\"plot-464895168\"></div>"
      ]
     },
     "metadata": {},
     "output_type": "display_data"
    },
    {
     "data": {
      "application/javascript": [
       "requirejs([\"plotly\"], function(Plotly) {\n",
       "  (function () {\n",
       "  var data0 = {\"type\":\"scatter\",\"x\":[],\"y\":[],\"text\":[],\"marker\":{\"size\":[]},\"name\":\"big brow fox\"};\n",
       "\n",
       "  var data = [data0];\n",
       "  var layout = {\"title\":\"random numbers and circles\"};\n",
       "\n",
       "  Plotly.plot('plot-464895168', data, layout);\n",
       "})();\n",
       "});\n",
       "      "
      ]
     },
     "metadata": {},
     "output_type": "display_data"
    },
    {
     "data": {
      "application/javascript": [
       "requirejs([\"plotly\"], function(Plotly) {\n",
       "  (function () {\n",
       "Plotly.extendTraces(\n",
       "  'plot-464895168',\n",
       "  {\n",
       "    x: [[-2.10622871466853]],\n",
       "    y: [[-0.16065538816366098]],\n",
       "    'marker.size': [[72]],\n",
       "    text: [[\"big\"]]\n",
       "  },\n",
       "  [0]\n",
       ");\n",
       "})();\n",
       "});\n",
       "      "
      ]
     },
     "metadata": {},
     "output_type": "display_data"
    },
    {
     "data": {
      "application/javascript": [
       "requirejs([\"plotly\"], function(Plotly) {\n",
       "  (function () {\n",
       "Plotly.extendTraces(\n",
       "  'plot-464895168',\n",
       "  {\n",
       "    x: [[-0.7353605425565082]],\n",
       "    y: [[-0.4297701576006705]],\n",
       "    'marker.size': [[85]],\n",
       "    text: [[\"brown\"]]\n",
       "  },\n",
       "  [0]\n",
       ");\n",
       "})();\n",
       "});\n",
       "      "
      ]
     },
     "metadata": {},
     "output_type": "display_data"
    },
    {
     "data": {
      "application/javascript": [
       "requirejs([\"plotly\"], function(Plotly) {\n",
       "  (function () {\n",
       "Plotly.extendTraces(\n",
       "  'plot-464895168',\n",
       "  {\n",
       "    x: [[0.9511298496384473]],\n",
       "    y: [[0.8939207018722148]],\n",
       "    'marker.size': [[80]],\n",
       "    text: [[\"fox\"]]\n",
       "  },\n",
       "  [0]\n",
       ");\n",
       "})();\n",
       "});\n",
       "      "
      ]
     },
     "metadata": {},
     "output_type": "display_data"
    },
    {
     "data": {
      "application/javascript": [
       "requirejs([\"plotly\"], function(Plotly) {\n",
       "  (function () {\n",
       "Plotly.extendTraces(\n",
       "  'plot-464895168',\n",
       "  {\n",
       "    x: [[-0.21624077738454434]],\n",
       "    y: [[0.31778235246164716]],\n",
       "    'marker.size': [[74]],\n",
       "    text: [[\"jumps\"]]\n",
       "  },\n",
       "  [0]\n",
       ");\n",
       "})();\n",
       "});\n",
       "      "
      ]
     },
     "metadata": {},
     "output_type": "display_data"
    },
    {
     "data": {
      "application/javascript": [
       "requirejs([\"plotly\"], function(Plotly) {\n",
       "  (function () {\n",
       "Plotly.extendTraces(\n",
       "  'plot-464895168',\n",
       "  {\n",
       "    x: [[0.5504892883774579]],\n",
       "    y: [[-0.812491118080421]],\n",
       "    'marker.size': [[98]],\n",
       "    text: [[\"over\"]]\n",
       "  },\n",
       "  [0]\n",
       ");\n",
       "})();\n",
       "});\n",
       "      "
      ]
     },
     "metadata": {},
     "output_type": "display_data"
    },
    {
     "data": {
      "application/javascript": [
       "requirejs([\"plotly\"], function(Plotly) {\n",
       "  (function () {\n",
       "Plotly.extendTraces(\n",
       "  'plot-464895168',\n",
       "  {\n",
       "    x: [[-0.4988179944422233]],\n",
       "    y: [[1.03965412008787]],\n",
       "    'marker.size': [[11]],\n",
       "    text: [[\"the\"]]\n",
       "  },\n",
       "  [0]\n",
       ");\n",
       "})();\n",
       "});\n",
       "      "
      ]
     },
     "metadata": {},
     "output_type": "display_data"
    },
    {
     "data": {
      "application/javascript": [
       "requirejs([\"plotly\"], function(Plotly) {\n",
       "  (function () {\n",
       "Plotly.extendTraces(\n",
       "  'plot-464895168',\n",
       "  {\n",
       "    x: [[-0.8397470948509412]],\n",
       "    y: [[0.47187925747227266]],\n",
       "    'marker.size': [[83]],\n",
       "    text: [[\"lazy\"]]\n",
       "  },\n",
       "  [0]\n",
       ");\n",
       "})();\n",
       "});\n",
       "      "
      ]
     },
     "metadata": {},
     "output_type": "display_data"
    },
    {
     "data": {
      "application/javascript": [
       "requirejs([\"plotly\"], function(Plotly) {\n",
       "  (function () {\n",
       "Plotly.extendTraces(\n",
       "  'plot-464895168',\n",
       "  {\n",
       "    x: [[-0.792947111599724]],\n",
       "    y: [[0.17900576685791306]],\n",
       "    'marker.size': [[65]],\n",
       "    text: [[\"dog\"]]\n",
       "  },\n",
       "  [0]\n",
       ");\n",
       "})();\n",
       "});\n",
       "      "
      ]
     },
     "metadata": {},
     "output_type": "display_data"
    },
    {
     "data": {
      "application/javascript": [
       "requirejs([\"plotly\"], function(Plotly) {\n",
       "  (function () {\n",
       "Plotly.extendTraces(\n",
       "  'plot-464895168',\n",
       "  {\n",
       "    x: [[0.2204985030101557]],\n",
       "    y: [[0.976658938641531]],\n",
       "    'marker.size': [[15]],\n",
       "    text: [[\"big\"]]\n",
       "  },\n",
       "  [0]\n",
       ");\n",
       "})();\n",
       "});\n",
       "      "
      ]
     },
     "metadata": {},
     "output_type": "display_data"
    },
    {
     "data": {
      "application/javascript": [
       "requirejs([\"plotly\"], function(Plotly) {\n",
       "  (function () {\n",
       "Plotly.extendTraces(\n",
       "  'plot-464895168',\n",
       "  {\n",
       "    x: [[1.4456602522951874]],\n",
       "    y: [[-0.6289026006330106]],\n",
       "    'marker.size': [[43]],\n",
       "    text: [[\"brown\"]]\n",
       "  },\n",
       "  [0]\n",
       ");\n",
       "})();\n",
       "});\n",
       "      "
      ]
     },
     "metadata": {},
     "output_type": "display_data"
    },
    {
     "data": {
      "application/javascript": [
       "requirejs([\"plotly\"], function(Plotly) {\n",
       "  (function () {\n",
       "Plotly.extendTraces(\n",
       "  'plot-464895168',\n",
       "  {\n",
       "    x: [[0.9565068027354293]],\n",
       "    y: [[0.2421326463349568]],\n",
       "    'marker.size': [[57]],\n",
       "    text: [[\"fox\"]]\n",
       "  },\n",
       "  [0]\n",
       ");\n",
       "})();\n",
       "});\n",
       "      "
      ]
     },
     "metadata": {},
     "output_type": "display_data"
    },
    {
     "data": {
      "text/plain": [
       "\u001b[36mres15\u001b[39m: {val div: String;val words: Array[String]} = $sess.cmd15Wrapper$Helper$$anon$1@2c75e8f7"
      ]
     },
     "execution_count": 16,
     "metadata": {},
     "output_type": "execute_result"
    }
   ],
   "source": [
    "  new {\n",
    "\n",
    "    import mlworthing._\n",
    "    import plotly.Extra._\n",
    "\n",
    "    import mlworthing._\n",
    "    import plotly.Extra._\n",
    "    import scala.util.Random._\n",
    "\n",
    "    val div = Scatter(\n",
    "      List[Double](),\n",
    "      List[Double](),\n",
    "      marker = Marker(\n",
    "        size = Seq()\n",
    "      ),\n",
    "      text = Seq(),\n",
    "      name = \"big brow fox\"\n",
    "    ).plot(title = \"random numbers and circles\")\n",
    "\n",
    "    val words = \"big brown fox jumps over the lazy dog\".split(\" \")\n",
    "    //       waitForChart()\n",
    "    (0 to 10) foreach { i =>\n",
    "      Thread.sleep(100)\n",
    "      val update = Update(\n",
    "        x = Seq[Sequence](List(nextGaussian())),\n",
    "        y = Seq[Sequence](List(nextGaussian())),\n",
    "        `marker.size` = Seq[OneOrSeq[Int]](List(nextInt().abs % 100)),\n",
    "        text = Seq(Seq(words(i % words.size)))\n",
    "      )\n",
    "      extendTraces(div, update, List(0))\n",
    "    }\n",
    "  }"
   ]
  },
  {
   "attachments": {
    "image.png": {
     "image/png": "[encoded data removed]"
    }
   },
   "cell_type": "markdown",
   "metadata": {},
   "source": [
    "# Import library with classifier\n",
    "* At the moment scala kernlel of jupyter doesn't support importing libs with classifiers (01-2018)\n",
    "* https://github.com/jupyter-scala/jupyter-scala/issues/128\n",
    "* It even doesn't allow to imprt it as transitive dependency\n",
    "* Here is workaround for it\n",
    "\n",
    "In particular this artifact contains so libararies\n",
    "![image.png](attachment:image.png)"
   ]
  },
  {
   "cell_type": "code",
   "execution_count": 2,
   "metadata": {},
   "outputs": [
    {
     "data": {
      "text/plain": [
       "\u001b[36mres1\u001b[39m: {val userHome: String;val pathPrefix: String;val tesnsorflowV: String;val scalaV: String;val pathToJar: String} = $sess.cmd1Wrapper$Helper$$anon$1@35f928a0"
      ]
     },
     "execution_count": 2,
     "metadata": {},
     "output_type": "execute_result"
    }
   ],
   "source": [
    "new {\n",
    "    val userHome = System.getProperty(\"user.home\")\n",
    "    val pathPrefix = s\"$userHome/.m2/repository\"\n",
    "    val tesnsorflowV = \"0.1.1-SNAPSHOT\"\n",
    "    val scalaV = \"2.11\"\n",
    "    val pathToJar = s\"$userHome/.coursier/cache/v1/https/oss.sonatype.org/content/repositories/snapshots/org/platanios/tensorflow_$scalaV/$tesnsorflowV/tensorflow_$scalaV-$tesnsorflowV-linux-cpu-x86_64.jar\"\n",
    "    interp.load.cp(\n",
    "      Seq(\n",
    "        ammonite.ops.Path(pathToJar)\n",
    "      )\n",
    "    )\n",
    "  }\n"
   ]
  }
 ],
 "metadata": {
  "kernelspec": {
   "display_name": "Scala",
   "language": "scala",
   "name": "scala"
  },
  "language_info": {
   "codemirror_mode": "text/x-scala",
   "file_extension": ".scala",
   "mimetype": "text/x-scala",
   "name": "scala211",
   "nbconvert_exporter": "script",
   "pygments_lexer": "scala",
   "version": "2.11.11"
  }
 },
 "nbformat": 4,
 "nbformat_minor": 2
}
