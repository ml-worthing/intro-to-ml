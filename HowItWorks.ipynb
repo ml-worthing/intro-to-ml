{
 "cells": [
  {
   "cell_type": "markdown",
   "metadata": {},
   "source": [
    "# Print scala version used by this notebook"
   ]
  },
  {
   "cell_type": "code",
   "execution_count": 1,
   "metadata": {},
   "outputs": [
    {
     "data": {
      "text/plain": [
       "\u001b[36mlist\u001b[39m: \u001b[32mList\u001b[39m[\u001b[32mInt\u001b[39m] = \u001b[33mList\u001b[39m(\u001b[32m12\u001b[39m, \u001b[32m3\u001b[39m, \u001b[32m4\u001b[39m)"
      ]
     },
     "execution_count": 1,
     "metadata": {},
     "output_type": "execute_result"
    }
   ],
   "source": [
    "val list = List(12,3,4)"
   ]
  },
  {
   "cell_type": "code",
   "execution_count": 2,
   "metadata": {},
   "outputs": [
    {
     "name": "stdout",
     "output_type": "stream",
     "text": [
      "using scala version: 2.11.11\n"
     ]
    }
   ],
   "source": [
    "println(s\"\"\"using scala version: ${scala.util.Properties.scalaPropOrElse(\"version.number\", \"unknown\")}\"\"\")"
   ]
  },
  {
   "cell_type": "markdown",
   "metadata": {},
   "source": [
    "# Import project's library\n",
    "\n",
    "First you need to publis it into local *ivy* repository by calling \n",
    "\n",
    "```\n",
    "sbt clean test publishLocal\n",
    "```\n",
    "\n",
    "**<font color='red'>! After changes in library you need to restart kernel</font>**\n"
   ]
  },
  {
   "cell_type": "code",
   "execution_count": 3,
   "metadata": {},
   "outputs": [
    {
     "name": "stdout",
     "output_type": "stream",
     "text": [
      "Compiling Commons.sc\n"
     ]
    },
    {
     "data": {
      "text/plain": [
       "\u001b[32mimport \u001b[39m\u001b[36m$ivy.$                                    \n",
       "\u001b[39m\n",
       "\u001b[32mimport \u001b[39m\u001b[36m$file.$      \n",
       "\n",
       "\u001b[39m\n",
       "\u001b[36mres2_2\u001b[39m: \u001b[32mString\u001b[39m = \u001b[32m\"mlworthing package object 2\"\u001b[39m"
      ]
     },
     "execution_count": 3,
     "metadata": {},
     "output_type": "execute_result"
    }
   ],
   "source": [
    "import $ivy.`ml-worthing::introtoml:0.1-SNAPSHOT`\n",
    "import $file.Commons\n",
    "\n",
    "mlworthing.test"
   ]
  },
  {
   "cell_type": "markdown",
   "metadata": {},
   "source": [
    "## Import scala script \n",
    "**<font color='red'>! After changes in library you need to restart kernel</font>**\n"
   ]
  },
  {
   "cell_type": "code",
   "execution_count": 4,
   "metadata": {},
   "outputs": [
    {
     "name": "stdout",
     "output_type": "stream",
     "text": [
      "Compiling Commons.sc\n",
      "This comes from Commons.sc script 1\n"
     ]
    },
    {
     "data": {
      "text/plain": [
       "\u001b[32mimport \u001b[39m\u001b[36m$file.$      \n",
       "// import Commons._\n",
       "\u001b[39m"
      ]
     },
     "execution_count": 4,
     "metadata": {},
     "output_type": "execute_result"
    }
   ],
   "source": [
    "import $file.Commons\n",
    "// import Commons._\n",
    "Commons.test"
   ]
  },
  {
   "cell_type": "markdown",
   "metadata": {},
   "source": [
    "## showTable() - prints arrays as HTML\n"
   ]
  },
  {
   "cell_type": "code",
   "execution_count": 5,
   "metadata": {},
   "outputs": [
    {
     "data": {
      "text/html": [
       "<table>\n",
       "        <tr>\n",
       "          <th>\n",
       "            some numbers\n",
       "          </th>\n",
       "        </tr>\n",
       "        <tr><td>5.3223</td></tr><tr><td>2.343</td></tr><tr><td>4.0</td></tr><tr><td>56.0</td></tr><tr><td>7.0</td></tr><tr><td>3.0</td></tr><tr><td>4.0</td></tr><tr><td>-1.0</td></tr>\n",
       "      </table>"
      ]
     },
     "metadata": {},
     "output_type": "display_data"
    },
    {
     "data": {
      "text/html": [
       "<table>\n",
       "        <tr>\n",
       "          <th>\n",
       "          char\n",
       "        </th><th>\n",
       "          number\n",
       "        </th><th>\n",
       "          some value\n",
       "        </th>\n",
       "        </tr><tr>\n",
       "          <td>\n",
       "          99.0\n",
       "        </td><td>\n",
       "          123.0\n",
       "        </td><td>\n",
       "          0.001\n",
       "        </td>\n",
       "        </tr><tr>\n",
       "          <td>\n",
       "          98.0\n",
       "        </td><td>\n",
       "          555.0\n",
       "        </td><td>\n",
       "          0.003\n",
       "        </td>\n",
       "        </tr><tr>\n",
       "          <td>\n",
       "          101.0\n",
       "        </td><td>\n",
       "          666.0\n",
       "        </td><td>\n",
       "          0.006\n",
       "        </td>\n",
       "        </tr>\n",
       "      </table>"
      ]
     },
     "metadata": {},
     "output_type": "display_data"
    },
    {
     "data": {
      "text/plain": [
       "\u001b[32mimport \u001b[39m\u001b[36mmlworthing._\n",
       "\u001b[39m"
      ]
     },
     "execution_count": 5,
     "metadata": {},
     "output_type": "execute_result"
    }
   ],
   "source": [
    "import mlworthing._\n",
    "Array(5.3223,2.343,4,56,7,3,4.00,-1.00).showTable(\"some numbers\")\n",
    "Array(\n",
    "  Array('c', 123, 0.001),\n",
    "  Array('b', 555, 0.003),\n",
    "  Array('e', 666, 0.006)    \n",
    ").showTable(\"char\", \"number\", \"some value\")\n"
   ]
  },
  {
   "cell_type": "markdown",
   "metadata": {},
   "source": [
    "## Pipe Operator"
   ]
  },
  {
   "cell_type": "code",
   "execution_count": 6,
   "metadata": {},
   "outputs": [
    {
     "data": {
      "text/html": [
       "Worthing is awesome ❤️❤️❤️❤️❤️"
      ]
     },
     "metadata": {},
     "output_type": "display_data"
    }
   ],
   "source": [
    "\"Worthing is awesome ❤️❤️❤️❤️❤️\" |> publish.html"
   ]
  },
  {
   "cell_type": "markdown",
   "metadata": {},
   "source": [
    "## Plotting\n",
    "\n",
    "### plotty\n",
    "* https://github.com/alexarchambault/plotly-scala\n",
    "* https://alexarchambault.github.io/plotly-scala/\n",
    "* https://images.plot.ly/plotly-documentation/images/plotly_js_cheat_sheet.pdf\n",
    "* doc https://plot.ly/javascript/\n",
    "\n",
    "* **<font color='red'>requires custom plotly scala build**</font>\n",
    "    * fork here: https://github.com/pawelpanasewicz/plotly-scala\n",
    "    * how to publish: `sbt ++2.11.8 clean publishLocal`\n"
   ]
  },
  {
   "cell_type": "code",
   "execution_count": 7,
   "metadata": {},
   "outputs": [
    {
     "data": {
      "text/html": [
       "\n",
       "      <script type=\"text/javascript\">\n",
       "        require.config({\n",
       "  paths: {\n",
       "    d3: 'https://cdnjs.cloudflare.com/ajax/libs/d3/3.5.17/d3.min',\n",
       "    plotly: 'https://cdn.plot.ly/plotly-1.31.2.min'\n",
       "  },\n",
       "\n",
       "  shim: {\n",
       "    plotly: {\n",
       "      deps: ['d3', 'jquery'],\n",
       "      exports: 'plotly'\n",
       "    }\n",
       "  }\n",
       "});\n",
       "        \n",
       "\n",
       "        require(['plotly'], function(Plotly) {\n",
       "          window.Plotly = Plotly;\n",
       "        });\n",
       "      </script>\n",
       "    "
      ]
     },
     "metadata": {},
     "output_type": "display_data"
    },
    {
     "data": {
      "text/html": [
       "<div class=\"chart\" id=\"plot-903517729\"></div>"
      ]
     },
     "metadata": {},
     "output_type": "display_data"
    },
    {
     "data": {
      "application/javascript": [
       "requirejs([\"plotly\"], function(Plotly) {\n",
       "  (function () {\n",
       "  var data0 = {\"type\":\"bar\",\"x\":[\"Banana\",\"Apple\",\"Grapefruit\"],\"y\":[10.0,8.0,15.0]};\n",
       "\n",
       "  var data = [data0];\n",
       "  var layout = {};\n",
       "\n",
       "  var p = Plotly.plot('plot-903517729', data, layout);\n",
       "Promise.resolve(p);\n",
       "})();\n",
       "});\n",
       "      "
      ]
     },
     "metadata": {},
     "output_type": "display_data"
    },
    {
     "data": {
      "text/html": [
       "<div class=\"chart\" id=\"plot-652939709\"></div>"
      ]
     },
     "metadata": {},
     "output_type": "display_data"
    },
    {
     "data": {
      "application/javascript": [
       "requirejs([\"plotly\"], function(Plotly) {\n",
       "  (function () {\n",
       "  var data0 = {\"type\":\"scatter\",\"x\":[0.0,0.3,0.6,0.8999999999999999,1.2,1.5,1.7999999999999998,2.1,2.4,2.6999999999999997,3.0,3.3,3.5999999999999996,3.9,4.2,4.5,4.8,5.1,5.3999999999999995,5.7,6.0,6.3,6.6,6.8999999999999995,7.199999999999999,7.5,7.8,8.1,8.4,8.7,9.0,9.299999999999999,9.6,9.9],\"y\":[-1.4993363915232865,1.0361026415267616,2.367226279129495,1.9072451011646188,2.46850377790824,3.2281543702827022,3.844769731630186,3.8213435067109316,4.9489438505540075,4.69488600345651,5.299994772648717,6.7849038947774885,7.116386771265056,8.63941140810475,10.008660784099778,8.810248610199093,10.156265501384903,11.681109047800774,11.25497492632697,12.196270558211243,11.230543646384694,11.83327070577049,10.891206484194813,12.608463605891561,16.09949550082715,14.246162534062279,15.946296822427833,18.219494752938555,16.187024874044273,16.09265344526642,18.816255631597524,18.649940936646054,20.834874731083314,20.065722978008363],\"mode\":\"markers\",\"name\":\"Approx twice\"};\n",
       "  var data1 = {\"type\":\"scatter\",\"x\":[0.0,0.4,0.8,1.2000000000000002,1.6,2.0,2.4000000000000004,2.8000000000000003,3.2,3.6,4.0,4.4,4.800000000000001],\"y\":[1.0,1.4918246976412703,2.225540928492468,3.320116922736548,4.953032424395115,7.38905609893065,11.023176380641601,16.444646771097048,24.53253019710934,36.598234443677974,54.598150033144215,81.45086866496807,121.51041751873485],\"mode\":\"markers\",\"name\":\"Exp\"};\n",
       "\n",
       "  var data = [data0, data1];\n",
       "  var layout = {};\n",
       "\n",
       "  var p = Plotly.plot('plot-652939709', data, layout);\n",
       "Promise.resolve(p);\n",
       "})();\n",
       "});\n",
       "      "
      ]
     },
     "metadata": {},
     "output_type": "display_data"
    },
    {
     "data": {
      "text/plain": [
       "\u001b[32mimport \u001b[39m\u001b[36m$ivy.$                                                      \n",
       "\n",
       "\u001b[39m\n",
       "\u001b[32mimport \u001b[39m\u001b[36mplotly._\n",
       "\u001b[39m\n",
       "\u001b[32mimport \u001b[39m\u001b[36mplotly.element._\n",
       "\u001b[39m\n",
       "\u001b[32mimport \u001b[39m\u001b[36mplotly.layout._\n",
       "\u001b[39m\n",
       "\u001b[32mimport \u001b[39m\u001b[36mplotly.JupyterScala._\n",
       "\u001b[39m\n",
       "\u001b[32mimport \u001b[39m\u001b[36mplotly.element.Orientation._\n",
       "\n",
       "\n",
       "\u001b[39m\n",
       "\u001b[36mres6_7\u001b[39m: {val x: Seq[String];val y: Seq[Int]} = $sess.cmd6Wrapper$Helper$$anon$1@5395be16\n",
       "\u001b[36mres6_8\u001b[39m: {val x1: scala.collection.immutable.NumericRange[Double];val y1: scala.collection.immutable.IndexedSeq[Double];val x2: scala.collection.immutable.NumericRange[Double];val y2: scala.collection.immutable.IndexedSeq[Double];val plot: Seq[plotly.Scatter]} = $sess.cmd6Wrapper$Helper$$anon$3@35fdabbe"
      ]
     },
     "execution_count": 7,
     "metadata": {},
     "output_type": "execute_result"
    }
   ],
   "source": [
    "import $ivy.`org.plotly-scala::plotly-jupyter-scala:0.3.4-SNAPSHOT`\n",
    "\n",
    "import plotly._\n",
    "import plotly.element._\n",
    "import plotly.layout._\n",
    "import plotly.JupyterScala._\n",
    "import plotly.element.Orientation._\n",
    "\n",
    "\n",
    "plotly.JupyterScala.init()\n",
    "\n",
    "new {\n",
    "    val (x, y) = Seq(\n",
    "      \"Banana\" -> 10,\n",
    "      \"Apple\" -> 8,\n",
    "      \"Grapefruit\" -> 15\n",
    "    ).unzip\n",
    "\n",
    "    Bar(x, y).plot()\n",
    "\n",
    "}\n",
    "\n",
    "new {\n",
    "    val x1 = (0.0 to 10.0 by 0.3)\n",
    "    val y1 = x1.map(d => 2.0 * d + util.Random.nextGaussian())\n",
    "\n",
    "    val x2 = (0.0 to 5.0 by 0.4)\n",
    "    val y2 = x2.map(math.exp)\n",
    "\n",
    "    val plot = Seq(\n",
    "      Scatter(\n",
    "        x1, y1,\n",
    "        name = \"Approx twice\",\n",
    "        mode = ScatterMode(ScatterMode.Markers)\n",
    "      ),\n",
    "      Scatter(\n",
    "        x2, y2, \n",
    "        name = \"Exp\",\n",
    "        mode = ScatterMode(ScatterMode.Markers)\n",
    "\n",
    "      )\n",
    "    )\n",
    "    plot.plot()\n",
    "}\n"
   ]
  },
  {
   "cell_type": "markdown",
   "metadata": {},
   "source": [
    "## calling javascript"
   ]
  },
  {
   "cell_type": "code",
   "execution_count": 8,
   "metadata": {
    "scrolled": true
   },
   "outputs": [
    {
     "data": {
      "application/javascript": [
       "console.info('asdfasdf123')"
      ]
     },
     "metadata": {},
     "output_type": "display_data"
    }
   ],
   "source": [
    "publish.js(\"console.info('asdfasdf123')\")"
   ]
  },
  {
   "cell_type": "markdown",
   "metadata": {},
   "source": [
    "## using plotly.js API and updating graph\n",
    "* http://www.mzan.com/article/35946484-most-performant-way-to-update-graph-with-new-data-with-plotly.shtml\n"
   ]
  },
  {
   "cell_type": "code",
   "execution_count": 15,
   "metadata": {},
   "outputs": [
    {
     "data": {
      "text/html": [
       "<div class=\"chart\" id=\"plot-711443966\"></div>"
      ]
     },
     "metadata": {},
     "output_type": "display_data"
    },
    {
     "data": {
      "application/javascript": [
       "requirejs([\"plotly\"], function(Plotly) {\n",
       "  (function () {\n",
       "  var data0 = {\"type\":\"scatter\",\"x\":[],\"y\":[],\"text\":[],\"marker\":{\"size\":[]},\"name\":\"big brow fox\"};\n",
       "\n",
       "  var data = [data0];\n",
       "  var layout = {\"title\":\"random numbers and circles\"};\n",
       "\n",
       "  var p = Plotly.plot('plot-711443966', data, layout);\n",
       "Promise.resolve(p);\n",
       "})();\n",
       "});\n",
       "      "
      ]
     },
     "metadata": {},
     "output_type": "display_data"
    },
    {
     "data": {
      "application/javascript": [
       "requirejs([\"plotly\"], function(Plotly) {\n",
       "  (function () {\n",
       "Plotly.extendTraces(\n",
       "  'plot-711443966',\n",
       "  {\n",
       "    x: [[-1.0553032642231976]],\n",
       "    y: [[-1.3014428343536542]],\n",
       "    'marker.size': [[58]],\n",
       "    text: [[\"big\"]]\n",
       "  },\n",
       "  [0]\n",
       ");\n",
       "})();\n",
       "});\n",
       "      "
      ]
     },
     "metadata": {},
     "output_type": "display_data"
    },
    {
     "data": {
      "application/javascript": [
       "requirejs([\"plotly\"], function(Plotly) {\n",
       "  (function () {\n",
       "Plotly.extendTraces(\n",
       "  'plot-711443966',\n",
       "  {\n",
       "    x: [[0.1385473574528737]],\n",
       "    y: [[-1.8023213687430613]],\n",
       "    'marker.size': [[75]],\n",
       "    text: [[\"brown\"]]\n",
       "  },\n",
       "  [0]\n",
       ");\n",
       "})();\n",
       "});\n",
       "      "
      ]
     },
     "metadata": {},
     "output_type": "display_data"
    },
    {
     "data": {
      "application/javascript": [
       "requirejs([\"plotly\"], function(Plotly) {\n",
       "  (function () {\n",
       "Plotly.extendTraces(\n",
       "  'plot-711443966',\n",
       "  {\n",
       "    x: [[-0.5866901489550485]],\n",
       "    y: [[0.178258201678124]],\n",
       "    'marker.size': [[75]],\n",
       "    text: [[\"fox\"]]\n",
       "  },\n",
       "  [0]\n",
       ");\n",
       "})();\n",
       "});\n",
       "      "
      ]
     },
     "metadata": {},
     "output_type": "display_data"
    },
    {
     "data": {
      "application/javascript": [
       "requirejs([\"plotly\"], function(Plotly) {\n",
       "  (function () {\n",
       "Plotly.extendTraces(\n",
       "  'plot-711443966',\n",
       "  {\n",
       "    x: [[0.08461071846513016]],\n",
       "    y: [[-0.16293471561588665]],\n",
       "    'marker.size': [[62]],\n",
       "    text: [[\"jumps\"]]\n",
       "  },\n",
       "  [0]\n",
       ");\n",
       "})();\n",
       "});\n",
       "      "
      ]
     },
     "metadata": {},
     "output_type": "display_data"
    },
    {
     "data": {
      "application/javascript": [
       "requirejs([\"plotly\"], function(Plotly) {\n",
       "  (function () {\n",
       "Plotly.extendTraces(\n",
       "  'plot-711443966',\n",
       "  {\n",
       "    x: [[1.724237451465143]],\n",
       "    y: [[0.17758321667533236]],\n",
       "    'marker.size': [[94]],\n",
       "    text: [[\"over\"]]\n",
       "  },\n",
       "  [0]\n",
       ");\n",
       "})();\n",
       "});\n",
       "      "
      ]
     },
     "metadata": {},
     "output_type": "display_data"
    },
    {
     "data": {
      "application/javascript": [
       "requirejs([\"plotly\"], function(Plotly) {\n",
       "  (function () {\n",
       "Plotly.extendTraces(\n",
       "  'plot-711443966',\n",
       "  {\n",
       "    x: [[0.24584528784682388]],\n",
       "    y: [[-1.404562255631799]],\n",
       "    'marker.size': [[21]],\n",
       "    text: [[\"the\"]]\n",
       "  },\n",
       "  [0]\n",
       ");\n",
       "})();\n",
       "});\n",
       "      "
      ]
     },
     "metadata": {},
     "output_type": "display_data"
    },
    {
     "data": {
      "application/javascript": [
       "requirejs([\"plotly\"], function(Plotly) {\n",
       "  (function () {\n",
       "Plotly.extendTraces(\n",
       "  'plot-711443966',\n",
       "  {\n",
       "    x: [[0.2099150743144078]],\n",
       "    y: [[0.07024440901796494]],\n",
       "    'marker.size': [[85]],\n",
       "    text: [[\"lazy\"]]\n",
       "  },\n",
       "  [0]\n",
       ");\n",
       "})();\n",
       "});\n",
       "      "
      ]
     },
     "metadata": {},
     "output_type": "display_data"
    },
    {
     "data": {
      "application/javascript": [
       "requirejs([\"plotly\"], function(Plotly) {\n",
       "  (function () {\n",
       "Plotly.extendTraces(\n",
       "  'plot-711443966',\n",
       "  {\n",
       "    x: [[-0.6898028698603376]],\n",
       "    y: [[1.8623417342799966]],\n",
       "    'marker.size': [[96]],\n",
       "    text: [[\"dog\"]]\n",
       "  },\n",
       "  [0]\n",
       ");\n",
       "})();\n",
       "});\n",
       "      "
      ]
     },
     "metadata": {},
     "output_type": "display_data"
    },
    {
     "data": {
      "application/javascript": [
       "requirejs([\"plotly\"], function(Plotly) {\n",
       "  (function () {\n",
       "Plotly.extendTraces(\n",
       "  'plot-711443966',\n",
       "  {\n",
       "    x: [[0.22385222412377562]],\n",
       "    y: [[-0.5081079539752084]],\n",
       "    'marker.size': [[75]],\n",
       "    text: [[\"big\"]]\n",
       "  },\n",
       "  [0]\n",
       ");\n",
       "})();\n",
       "});\n",
       "      "
      ]
     },
     "metadata": {},
     "output_type": "display_data"
    },
    {
     "data": {
      "application/javascript": [
       "requirejs([\"plotly\"], function(Plotly) {\n",
       "  (function () {\n",
       "Plotly.extendTraces(\n",
       "  'plot-711443966',\n",
       "  {\n",
       "    x: [[1.7519081730906956]],\n",
       "    y: [[-0.24800679024394254]],\n",
       "    'marker.size': [[97]],\n",
       "    text: [[\"brown\"]]\n",
       "  },\n",
       "  [0]\n",
       ");\n",
       "})();\n",
       "});\n",
       "      "
      ]
     },
     "metadata": {},
     "output_type": "display_data"
    },
    {
     "data": {
      "application/javascript": [
       "requirejs([\"plotly\"], function(Plotly) {\n",
       "  (function () {\n",
       "Plotly.extendTraces(\n",
       "  'plot-711443966',\n",
       "  {\n",
       "    x: [[-1.751201715720557]],\n",
       "    y: [[-0.7471451981354736]],\n",
       "    'marker.size': [[9]],\n",
       "    text: [[\"fox\"]]\n",
       "  },\n",
       "  [0]\n",
       ");\n",
       "})();\n",
       "});\n",
       "      "
      ]
     },
     "metadata": {},
     "output_type": "display_data"
    },
    {
     "data": {
      "text/plain": [
       "\u001b[36mres14\u001b[39m: {val div: String;val words: Array[String]} = $sess.cmd14Wrapper$Helper$$anon$1@4770f8ce"
      ]
     },
     "execution_count": 15,
     "metadata": {},
     "output_type": "execute_result"
    }
   ],
   "source": [
    "  new {\n",
    "\n",
    "    import mlworthing._\n",
    "    import plotly.Extra._\n",
    "\n",
    "    import mlworthing._\n",
    "    import plotly.Extra._\n",
    "    import scala.util.Random._\n",
    "\n",
    "    val div = Scatter(\n",
    "      List[Double](),\n",
    "      List[Double](),\n",
    "      marker = Marker(\n",
    "        size = Seq()\n",
    "      ),\n",
    "      text = Seq(),\n",
    "      name = \"big brow fox\"\n",
    "    ).plot(title = \"random numbers and circles\")\n",
    "\n",
    "    val words = \"big brown fox jumps over the lazy dog\".split(\" \")\n",
    "    //       waitForChart()\n",
    "    (0 to 10) foreach { i =>\n",
    "      Thread.sleep(100)\n",
    "      val update = Update(\n",
    "        x = Seq[Sequence](List(nextGaussian())),\n",
    "        y = Seq[Sequence](List(nextGaussian())),\n",
    "        `marker.size` = Seq[OneOrSeq[Int]](List(nextInt().abs % 100)),\n",
    "        text = Seq(Seq(words(i % words.size)))\n",
    "      )\n",
    "      extendTraces(div, update, List(0))\n",
    "    }\n",
    "  }"
   ]
  },
  {
   "cell_type": "code",
   "execution_count": 14,
   "metadata": {},
   "outputs": [
    {
     "data": {
      "text/html": [
       "<div class=\"chart\" id=\"plot-1663952249\"></div>"
      ]
     },
     "metadata": {},
     "output_type": "display_data"
    },
    {
     "data": {
      "application/javascript": [
       "requirejs([\"plotly\"], function(Plotly) {\n",
       "  (function () {\n",
       "  var data0 = {\"type\":\"scatter\",\"x\":[],\"y\":[],\"text\":[],\"marker\":{\"size\":[]},\"name\":\"big brow fox\"};\n",
       "\n",
       "  var data = [data0];\n",
       "  var layout = {};\n",
       "\n",
       "  var p = Plotly.plot('plot-1663952249', data, layout);\n",
       "Promise.resolve(p);\n",
       "})();\n",
       "});\n",
       "      "
      ]
     },
     "metadata": {},
     "output_type": "display_data"
    },
    {
     "data": {
      "application/javascript": [
       "requirejs([\"plotly\"], function(Plotly) {\n",
       "  (function () {\n",
       "Plotly.extendTraces(\n",
       "  'plot-1663952249',\n",
       "  {\n",
       "    x: [[-1.0956588081888285]],\n",
       "    y: [[2.40376226599459]],\n",
       "    'marker.size': [[26]],\n",
       "    text: [[\"big\"]]\n",
       "  },\n",
       "  [0]\n",
       ");\n",
       "})();\n",
       "});\n",
       "      "
      ]
     },
     "metadata": {},
     "output_type": "display_data"
    },
    {
     "data": {
      "application/javascript": [
       "requirejs([\"plotly\"], function(Plotly) {\n",
       "  (function () {\n",
       "Plotly.extendTraces(\n",
       "  'plot-1663952249',\n",
       "  {\n",
       "    x: [[-0.9536150753597308]],\n",
       "    y: [[-0.3745398737800147]],\n",
       "    'marker.size': [[3]],\n",
       "    text: [[\"brown\"]]\n",
       "  },\n",
       "  [0]\n",
       ");\n",
       "})();\n",
       "});\n",
       "      "
      ]
     },
     "metadata": {},
     "output_type": "display_data"
    },
    {
     "data": {
      "application/javascript": [
       "requirejs([\"plotly\"], function(Plotly) {\n",
       "  (function () {\n",
       "Plotly.extendTraces(\n",
       "  'plot-1663952249',\n",
       "  {\n",
       "    x: [[-1.376115036692224]],\n",
       "    y: [[-0.8444786512837817]],\n",
       "    'marker.size': [[12]],\n",
       "    text: [[\"fox\"]]\n",
       "  },\n",
       "  [0]\n",
       ");\n",
       "})();\n",
       "});\n",
       "      "
      ]
     },
     "metadata": {},
     "output_type": "display_data"
    },
    {
     "data": {
      "application/javascript": [
       "requirejs([\"plotly\"], function(Plotly) {\n",
       "  (function () {\n",
       "Plotly.extendTraces(\n",
       "  'plot-1663952249',\n",
       "  {\n",
       "    x: [[-0.5279671930961377]],\n",
       "    y: [[1.9638064122078571]],\n",
       "    'marker.size': [[53]],\n",
       "    text: [[\"jumps\"]]\n",
       "  },\n",
       "  [0]\n",
       ");\n",
       "})();\n",
       "});\n",
       "      "
      ]
     },
     "metadata": {},
     "output_type": "display_data"
    },
    {
     "data": {
      "application/javascript": [
       "requirejs([\"plotly\"], function(Plotly) {\n",
       "  (function () {\n",
       "Plotly.extendTraces(\n",
       "  'plot-1663952249',\n",
       "  {\n",
       "    x: [[0.9298012375169097]],\n",
       "    y: [[-0.11741456511651864]],\n",
       "    'marker.size': [[80]],\n",
       "    text: [[\"over\"]]\n",
       "  },\n",
       "  [0]\n",
       ");\n",
       "})();\n",
       "});\n",
       "      "
      ]
     },
     "metadata": {},
     "output_type": "display_data"
    },
    {
     "data": {
      "application/javascript": [
       "requirejs([\"plotly\"], function(Plotly) {\n",
       "  (function () {\n",
       "Plotly.extendTraces(\n",
       "  'plot-1663952249',\n",
       "  {\n",
       "    x: [[0.5976847930977439]],\n",
       "    y: [[-0.3452442987894697]],\n",
       "    'marker.size': [[90]],\n",
       "    text: [[\"the\"]]\n",
       "  },\n",
       "  [0]\n",
       ");\n",
       "})();\n",
       "});\n",
       "      "
      ]
     },
     "metadata": {},
     "output_type": "display_data"
    },
    {
     "data": {
      "application/javascript": [
       "requirejs([\"plotly\"], function(Plotly) {\n",
       "  (function () {\n",
       "Plotly.extendTraces(\n",
       "  'plot-1663952249',\n",
       "  {\n",
       "    x: [[-0.1681563982779467]],\n",
       "    y: [[0.7457896060266676]],\n",
       "    'marker.size': [[83]],\n",
       "    text: [[\"lazy\"]]\n",
       "  },\n",
       "  [0]\n",
       ");\n",
       "})();\n",
       "});\n",
       "      "
      ]
     },
     "metadata": {},
     "output_type": "display_data"
    },
    {
     "data": {
      "application/javascript": [
       "requirejs([\"plotly\"], function(Plotly) {\n",
       "  (function () {\n",
       "Plotly.extendTraces(\n",
       "  'plot-1663952249',\n",
       "  {\n",
       "    x: [[0.5089355523118786]],\n",
       "    y: [[0.6389681266613031]],\n",
       "    'marker.size': [[42]],\n",
       "    text: [[\"dog\"]]\n",
       "  },\n",
       "  [0]\n",
       ");\n",
       "})();\n",
       "});\n",
       "      "
      ]
     },
     "metadata": {},
     "output_type": "display_data"
    },
    {
     "data": {
      "application/javascript": [
       "requirejs([\"plotly\"], function(Plotly) {\n",
       "  (function () {\n",
       "Plotly.extendTraces(\n",
       "  'plot-1663952249',\n",
       "  {\n",
       "    x: [[-0.9140434315088249]],\n",
       "    y: [[-0.9714161914731017]],\n",
       "    'marker.size': [[11]],\n",
       "    text: [[\"big\"]]\n",
       "  },\n",
       "  [0]\n",
       ");\n",
       "})();\n",
       "});\n",
       "      "
      ]
     },
     "metadata": {},
     "output_type": "display_data"
    },
    {
     "data": {
      "application/javascript": [
       "requirejs([\"plotly\"], function(Plotly) {\n",
       "  (function () {\n",
       "Plotly.extendTraces(\n",
       "  'plot-1663952249',\n",
       "  {\n",
       "    x: [[0.900963300004223]],\n",
       "    y: [[-1.5457751590779862]],\n",
       "    'marker.size': [[35]],\n",
       "    text: [[\"brown\"]]\n",
       "  },\n",
       "  [0]\n",
       ");\n",
       "})();\n",
       "});\n",
       "      "
      ]
     },
     "metadata": {},
     "output_type": "display_data"
    },
    {
     "data": {
      "application/javascript": [
       "requirejs([\"plotly\"], function(Plotly) {\n",
       "  (function () {\n",
       "Plotly.extendTraces(\n",
       "  'plot-1663952249',\n",
       "  {\n",
       "    x: [[-0.3051458227496895]],\n",
       "    y: [[-0.7153380781888822]],\n",
       "    'marker.size': [[7]],\n",
       "    text: [[\"fox\"]]\n",
       "  },\n",
       "  [0]\n",
       ");\n",
       "})();\n",
       "});\n",
       "      "
      ]
     },
     "metadata": {},
     "output_type": "display_data"
    },
    {
     "data": {
      "text/plain": [
       "\u001b[36mres13\u001b[39m: {val div: String;val words: Array[String]} = $sess.cmd13Wrapper$Helper$$anon$1@21807901"
      ]
     },
     "execution_count": 14,
     "metadata": {},
     "output_type": "execute_result"
    }
   ],
   "source": [
    "  new {\n",
    "\n",
    "    import mlworthing._\n",
    "    import plotly.Extra._\n",
    "\n",
    "    import mlworthing._\n",
    "    import plotly.Extra._\n",
    "    import scala.util.Random._\n",
    "\n",
    "    val div = Scatter(\n",
    "      List[Double](),\n",
    "      List[Double](),\n",
    "      marker = Marker(\n",
    "        size = Seq()\n",
    "      ),\n",
    "      text = Seq(),\n",
    "      name = \"big brow fox\"\n",
    "    ).plot()\n",
    "\n",
    "    val words = \"big brown fox jumps over the lazy dog\".split(\" \")\n",
    "    //       waitForChart()\n",
    "    (0 to 10) foreach { i =>\n",
    "      Thread.sleep(100)\n",
    "      val update = Update(\n",
    "        x = Seq[Sequence](List(nextGaussian())),\n",
    "        y = Seq[Sequence](List(nextGaussian())),\n",
    "        `marker.size` = Seq[OneOrSeq[Int]](List(nextInt().abs % 100)),\n",
    "        text = Seq(Seq(words(i % words.size)))\n",
    "      )\n",
    "      extendTraces(div, update, List(0))\n",
    "    }\n",
    "  }\n"
   ]
  },
  {
   "cell_type": "code",
   "execution_count": null,
   "metadata": {},
   "outputs": [],
   "source": [
    "publish.html(s\"\"\"<div class=\"chart\" id=\"theDiv\"></div>\"\"\")\n"
   ]
  }
 ],
 "metadata": {
  "kernelspec": {
   "display_name": "Scala",
   "language": "scala",
   "name": "scala"
  },
  "language_info": {
   "codemirror_mode": "text/x-scala",
   "file_extension": ".scala",
   "mimetype": "text/x-scala",
   "name": "scala211",
   "nbconvert_exporter": "script",
   "pygments_lexer": "scala",
   "version": "2.11.11"
  }
 },
 "nbformat": 4,
 "nbformat_minor": 2
}
