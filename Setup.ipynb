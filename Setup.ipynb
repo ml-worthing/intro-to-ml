{
 "cells": [
  {
   "cell_type": "markdown",
   "metadata": {},
   "source": [
    "# Setup\n",
    "Setup you environment so you can run examples from this project. This includes python (conda), scala (sbt), tensor flow, cuda (if you have decent GPU).\n",
    "\n",
    "\n",
    "## Install conda\n",
    "https://conda.io/docs/user-guide/install/index.html\n",
    "## Install jupyter notebook\n",
    "http://jupyter.org/\n",
    "## Install jupyter notebook scala kernel\n",
    "https://github.com/jupyter-scala/jupyter-scala\n",
    "## Install sbt\n",
    "## Install tensorflow\n",
    "    \n",
    "\n"
   ]
  }
 ],
 "metadata": {
  "kernelspec": {
   "display_name": "Scala",
   "language": "scala",
   "name": "scala"
  },
  "language_info": {
   "codemirror_mode": "text/x-scala",
   "file_extension": ".scala",
   "mimetype": "text/x-scala",
   "name": "scala211",
   "nbconvert_exporter": "script",
   "pygments_lexer": "scala",
   "version": "2.11.11"
  }
 },
 "nbformat": 4,
 "nbformat_minor": 2
}
