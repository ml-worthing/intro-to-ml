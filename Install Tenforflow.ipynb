{
 "cells": [
  {
   "cell_type": "markdown",
   "metadata": {},
   "source": [
    "# Install Tenforflow\n"
   ]
  },
  {
   "cell_type": "markdown",
   "metadata": {},
   "source": [
    "https://www.tensorflow.org/install/install_linux\n"
   ]
  },
  {
   "cell_type": "markdown",
   "metadata": {},
   "source": [
    "## Create and enter virtual env\n",
    "```\n",
    "~ ᐅ conda create --name tf \n",
    "Fetching package metadata ...........\n",
    "Solving package specifications: \n",
    "Package plan for installation in environment /dbox/bin/anaconda3/envs/tf:\n",
    "\n",
    "Proceed ([y]/n)? y\n",
    "\n",
    "#\n",
    "# To activate this environment, use:\n",
    "# > source activate tf\n",
    "#\n",
    "# To deactivate an active environment, use:\n",
    "# > source deactivate\n",
    "#\n",
    "\n",
    "~ ᐅ source activate tf\n",
    "(tf) ~ ᐅ python --version\n",
    "Python 3.6.2 :: Anaconda, Inc.\n",
    "\n",
    "```\n"
   ]
  },
  {
   "cell_type": "markdown",
   "metadata": {},
   "source": [
    "## Install Tensor flow (CPU only)\n",
    "\n",
    "```\n",
    "(tf) ~ ᐅ pip install --ignore-installed --upgrade https://storage.googleapis.com/tensorflow/linux/cpu/tensorflow-1.4.1-cp36-cp36m-linux_x86_64.whl\n",
    "Collecting tensorflow==1.4.1 from https://storage.googleapis.com/tensorflow/linux/cpu/tensorflow-1.4.1-cp36-cp36m-linux_x86_64.whl\n",
    "  Downloading https://storage.googleapis.com/tensorflow/linux/cpu/tensorflow-1.4.1-cp36-cp36m-linux_x86_64.whl (41.2MB)\n",
    "    100% |████████████████████████████████| 41.2MB 44kB/s \n",
    "Collecting protobuf>=3.3.0 (from tensorflow==1.4.1)\n",
    "  Downloading protobuf-3.5.1-cp36-cp36m-manylinux1_x86_64.whl (6.4MB)\n",
    "    100% |████████████████████████████████| 6.4MB 277kB/s \n",
    "Collecting six>=1.10.0 (from tensorflow==1.4.1)\n",
    "  Using cached six-1.11.0-py2.py3-none-any.whl\n",
    "Collecting tensorflow-tensorboard<0.5.0,>=0.4.0rc1 (from tensorflow==1.4.1)\n",
    "  Downloading tensorflow_tensorboard-0.4.0-py3-none-any.whl (1.7MB)\n",
    "    100% |████████████████████████████████| 1.7MB 969kB/s \n",
    "Collecting wheel>=0.26 (from tensorflow==1.4.1)\n",
    "  Using cached wheel-0.30.0-py2.py3-none-any.whl\n",
    "Collecting enum34>=1.1.6 (from tensorflow==1.4.1)\n",
    "  Downloading enum34-1.1.6-py3-none-any.whl\n",
    "Collecting numpy>=1.12.1 (from tensorflow==1.4.1)\n",
    "  Downloading numpy-1.14.0-cp36-cp36m-manylinux1_x86_64.whl (17.2MB)\n",
    "    100% |████████████████████████████████| 17.2MB 105kB/s \n",
    "Collecting setuptools (from protobuf>=3.3.0->tensorflow==1.4.1)\n",
    "  Downloading setuptools-38.4.0-py2.py3-none-any.whl (489kB)\n",
    "    100% |████████████████████████████████| 491kB 2.1MB/s \n",
    "Collecting werkzeug>=0.11.10 (from tensorflow-tensorboard<0.5.0,>=0.4.0rc1->tensorflow==1.4.1)\n",
    "  Downloading Werkzeug-0.14.1-py2.py3-none-any.whl (322kB)\n",
    "    100% |████████████████████████████████| 327kB 2.5MB/s \n",
    "Collecting html5lib==0.9999999 (from tensorflow-tensorboard<0.5.0,>=0.4.0rc1->tensorflow==1.4.1)\n",
    "  Downloading html5lib-0.9999999.tar.gz (889kB)\n",
    "    100% |████████████████████████████████| 890kB 1.5MB/s \n",
    "Collecting markdown>=2.6.8 (from tensorflow-tensorboard<0.5.0,>=0.4.0rc1->tensorflow==1.4.1)\n",
    "  Downloading Markdown-2.6.11-py2.py3-none-any.whl (78kB)\n",
    "    100% |████████████████████████████████| 81kB 3.6MB/s \n",
    "Collecting bleach==1.5.0 (from tensorflow-tensorboard<0.5.0,>=0.4.0rc1->tensorflow==1.4.1)\n",
    "  Downloading bleach-1.5.0-py2.py3-none-any.whl\n",
    "Building wheels for collected packages: html5lib\n",
    "  Running setup.py bdist_wheel for html5lib ... done\n",
    "  Stored in directory: /home/pawel/.cache/pip/wheels/6f/85/6c/56b8e1292c6214c4eb73b9dda50f53e8e977bf65989373c962\n",
    "Successfully built html5lib\n",
    "Installing collected packages: setuptools, six, protobuf, werkzeug, html5lib, markdown, wheel, numpy, bleach, tensorflow-tensorboard, enum34, tensorflow\n",
    "Successfully installed bleach-1.5.0 enum34-1.1.6 html5lib-0.9999999 markdown-2.6.11 numpy-1.14.0 protobuf-3.5.1 setuptools-38.4.0 six-1.11.0 tensorflow-1.4.1 tensorflow-tensorboard-0.4.0 werkzeug-0.14.1 wheel-0.30.0\n",
    "\n",
    "```"
   ]
  },
  {
   "cell_type": "markdown",
   "metadata": {},
   "source": [
    "## Verify installation\n",
    "\n",
    "```\n",
    "(tf) ~ ᐅ python \n",
    "Python 3.6.2 |Anaconda, Inc.| (default, Sep 22 2017, 02:03:08) \n",
    "[GCC 7.2.0] on linux\n",
    "Type \"help\", \"copyright\", \"credits\" or \"license\" for more information.\n",
    ">>> import tensorflow as tf\n",
    "/dbox/bin/anaconda3/lib/python3.6/importlib/_bootstrap.py:205: RuntimeWarning: compiletime version 3.5 of module 'tensorflow.python.framework.fast_tensor_util' does not match runtime version 3.6\n",
    "  return f(*args, **kwds)\n",
    "/dbox/bin/anaconda3/lib/python3.6/site-packages/h5py/__init__.py:34: FutureWarning: Conversion of the second argument of issubdtype from `float` to `np.floating` is deprecated. In future, it will be treated as `np.float64 == np.dtype(float).type`.\n",
    "  from ._conv import register_converters as _register_converters\n",
    ">>> import tensorflow as tf\n",
    ">>> hello = tf.constant('Hello, TensorFlow!')\n",
    ">>> sess = tf.Session()\n",
    "2018-01-21 19:36:57.007226: I tensorflow/core/platform/cpu_feature_guard.cc:137] Your CPU supports instructions that this TensorFlow binary was not compiled to use: SSE4.1 SSE4.2 AVX AVX2 FMA\n",
    ">>> print(sess.run(hello))\n",
    "b'Hello, TensorFlow!'\n",
    ">>> exit()\n",
    "(tf) ~ ᐅ \n",
    "```"
   ]
  }
 ],
 "metadata": {
  "kernelspec": {
   "display_name": "Scala",
   "language": "scala",
   "name": "scala"
  },
  "language_info": {
   "codemirror_mode": "text/x-scala",
   "file_extension": ".scala",
   "mimetype": "text/x-scala",
   "name": "scala211",
   "nbconvert_exporter": "script",
   "pygments_lexer": "scala",
   "version": "2.11.11"
  }
 },
 "nbformat": 4,
 "nbformat_minor": 2
}
