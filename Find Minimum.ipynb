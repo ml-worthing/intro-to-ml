{
 "cells": [
  {
   "cell_type": "markdown",
   "metadata": {},
   "source": [
    "Example shows how to find a minimum using computation graph and optimiser.\n",
    "\n",
    "See `HelloScalaTensorflow2`"
   ]
  },
  {
   "cell_type": "code",
   "execution_count": 1,
   "metadata": {},
   "outputs": [
    {
     "data": {
      "text/plain": [
       "\u001b[36mres0\u001b[39m: {val userHome: String;val pathPrefix: String;val tesnsorflowV: String;val scalaV: String;val pathToJar: String} = $sess.cmd0Wrapper$Helper$$anon$1@7180449c"
      ]
     },
     "execution_count": 1,
     "metadata": {},
     "output_type": "execute_result"
    }
   ],
   "source": [
    "//workaround to load tensorflow_2.11-0.1.1-SNAPSHOT-linux-cpu-x86_64.jar\n",
    "new {\n",
    "    val userHome = System.getProperty(\"user.home\")\n",
    "    val pathPrefix = s\"$userHome/.m2/repository\"\n",
    "    val tesnsorflowV = \"0.1.1-SNAPSHOT\"\n",
    "    val scalaV = \"2.11\"\n",
    "    val pathToJar = s\"$userHome/.coursier/cache/v1/https/oss.sonatype.org/content/repositories/snapshots/org/platanios/tensorflow_$scalaV/$tesnsorflowV/tensorflow_$scalaV-$tesnsorflowV-linux-cpu-x86_64.jar\"\n",
    "    interp.load.cp(\n",
    "      Seq(\n",
    "        ammonite.ops.Path(pathToJar)\n",
    "      )\n",
    "    )\n",
    "  }\n"
   ]
  },
  {
   "cell_type": "code",
   "execution_count": 2,
   "metadata": {},
   "outputs": [
    {
     "data": {
      "text/plain": [
       "\u001b[32mimport \u001b[39m\u001b[36mammonite._, Resolvers._\n",
       "\n",
       "    \u001b[39m\n",
       "\u001b[36mossSnapshots\u001b[39m: \u001b[32mResolver\u001b[39m.\u001b[32mHttp\u001b[39m = \u001b[33mHttp\u001b[39m(\n",
       "  \u001b[32m\"oss-snapshots\"\u001b[39m,\n",
       "  \u001b[32m\"https://oss.sonatype.org/content/repositories/snapshots\"\u001b[39m,\n",
       "  \u001b[32m\"[organisation]/[module]/(scala_[scalaVersion]/)(sbt_[sbtVersion]/)[revision]/[type]s/[artifact](-[classifier]).[ext]\"\u001b[39m,\n",
       "  \u001b[32mtrue\u001b[39m,\n",
       "  None\n",
       ")"
      ]
     },
     "execution_count": 2,
     "metadata": {},
     "output_type": "execute_result"
    }
   ],
   "source": [
    "    import ammonite._, Resolvers._\n",
    "\n",
    "    val ossSnapshots = Resolver.Http(\n",
    "      \"oss-snapshots\",\n",
    "      \"https://oss.sonatype.org/content/repositories/snapshots\", //trailing slash!\n",
    "      IvyPattern,\n",
    "      true\n",
    "    )\n",
    "\n",
    "    interp.resolvers() = interp.resolvers() :+ ossSnapshots"
   ]
  },
  {
   "cell_type": "code",
   "execution_count": 5,
   "metadata": {},
   "outputs": [
    {
     "data": {
      "text/plain": [
       "\u001b[36mres4\u001b[39m: \u001b[32mruntime\u001b[39m.\u001b[32mInterpAPI\u001b[39m = ammonite.interp.Interpreter$$anon$2@67002d6a"
      ]
     },
     "execution_count": 5,
     "metadata": {},
     "output_type": "execute_result"
    }
   ],
   "source": [
    "interp"
   ]
  },
  {
   "cell_type": "code",
   "execution_count": 4,
   "metadata": {},
   "outputs": [
    {
     "data": {
      "text/html": [
       "\n",
       "      <script type=\"text/javascript\">\n",
       "        require.config({\n",
       "  paths: {\n",
       "    d3: 'https://cdnjs.cloudflare.com/ajax/libs/d3/3.5.17/d3.min',\n",
       "    plotly: 'https://cdn.plot.ly/plotly-1.12.0.min'\n",
       "  },\n",
       "\n",
       "  shim: {\n",
       "    plotly: {\n",
       "      deps: ['d3', 'jquery'],\n",
       "      exports: 'plotly'\n",
       "    }\n",
       "  }\n",
       "});\n",
       "        \n",
       "\n",
       "        require(['plotly'], function(Plotly) {\n",
       "          window.Plotly = Plotly;\n",
       "        });\n",
       "      </script>\n",
       "    "
      ]
     },
     "metadata": {},
     "output_type": "display_data"
    },
    {
     "data": {
      "text/plain": [
       "\u001b[32mimport \u001b[39m\u001b[36m$ivy.$                                    \n",
       "\n",
       "// import $ivy.`org.platanios::tensorflow:0.1.1-SNAPSHOT`\n",
       "\n",
       "\u001b[39m\n",
       "\u001b[32mimport \u001b[39m\u001b[36morg.platanios.tensorflow.api\n",
       "\u001b[39m\n",
       "\u001b[32mimport \u001b[39m\u001b[36morg.platanios.tensorflow.api._\n",
       "\u001b[39m\n",
       "\u001b[32mimport \u001b[39m\u001b[36morg.platanios.tensorflow.api.core.client.FeedMap\n",
       "\n",
       "\u001b[39m\n",
       "\u001b[32mimport \u001b[39m\u001b[36mplotly._\n",
       "\u001b[39m\n",
       "\u001b[32mimport \u001b[39m\u001b[36mplotly.element._\n",
       "\u001b[39m\n",
       "\u001b[32mimport \u001b[39m\u001b[36mplotly.layout._\n",
       "\u001b[39m\n",
       "\u001b[32mimport \u001b[39m\u001b[36mplotly.JupyterScala._\n",
       "\u001b[39m\n",
       "\u001b[32mimport \u001b[39m\u001b[36mplotly.element.Orientation._\n",
       "\n",
       "\n",
       "\u001b[39m"
      ]
     },
     "execution_count": 4,
     "metadata": {},
     "output_type": "execute_result"
    }
   ],
   "source": [
    "//boilerplate\n",
    "import $ivy.`ml-worthing::introtoml:0.1-SNAPSHOT`\n",
    "\n",
    "// import $ivy.`org.platanios::tensorflow:0.1.1-SNAPSHOT`\n",
    "\n",
    "import org.platanios.tensorflow.api\n",
    "import org.platanios.tensorflow.api._\n",
    "import org.platanios.tensorflow.api.core.client.FeedMap\n",
    "\n",
    "import plotly._\n",
    "import plotly.element._\n",
    "import plotly.layout._\n",
    "import plotly.JupyterScala._\n",
    "import plotly.element.Orientation._\n",
    "\n",
    "\n",
    "plotly.JupyterScala.init()\n"
   ]
  },
  {
   "cell_type": "code",
   "execution_count": 5,
   "metadata": {},
   "outputs": [
    {
     "name": "stdout",
     "output_type": "stream",
     "text": [
      "2018-02-04 15:43:57.376 [pool-6-thread-13] INFO  TensorFlow Native - Extracting the 'tensorflow_framework' native library to /tmp/tensorflow_scala_native_libraries8751959767378356980/libtensorflow_framework.so.\n",
      "2018-02-04 15:43:57.466 [pool-6-thread-13] INFO  TensorFlow Native - Copied 15643920 bytes to /tmp/tensorflow_scala_native_libraries8751959767378356980/libtensorflow_framework.so.\n",
      "2018-02-04 15:43:57.467 [pool-6-thread-13] INFO  TensorFlow Native - Extracting the 'tensorflow' native library to /tmp/tensorflow_scala_native_libraries8751959767378356980/libtensorflow.so.\n",
      "2018-02-04 15:43:57.700 [pool-6-thread-13] INFO  TensorFlow Native - Copied 51510192 bytes to /tmp/tensorflow_scala_native_libraries8751959767378356980/libtensorflow.so.\n",
      "2018-02-04 15:43:57.701 [pool-6-thread-13] INFO  TensorFlow Native - Extracting the 'tensorflow_jni' native library to /tmp/tensorflow_scala_native_libraries8751959767378356980/libtensorflow_jni.so.\n",
      "2018-02-04 15:43:57.705 [pool-6-thread-13] INFO  TensorFlow Native - Copied 645872 bytes to /tmp/tensorflow_scala_native_libraries8751959767378356980/libtensorflow_jni.so.\n",
      "2018-02-04 15:43:57.750 [pool-6-thread-13] INFO  TensorFlow Native - Extracting the 'tensorflow_ops' native library to /tmp/tensorflow_scala_native_libraries8751959767378356980/libtensorflow_ops.so.\n",
      "2018-02-04 15:43:57.751 [pool-6-thread-13] INFO  TensorFlow Native - Copied 78232 bytes to /tmp/tensorflow_scala_native_libraries8751959767378356980/libtensorflow_ops.so.\n"
     ]
    },
    {
     "data": {
      "text/plain": [
       "\u001b[36minitialX\u001b[39m: \u001b[32mFloat\u001b[39m = \u001b[32m20.0F\u001b[39m\n",
       "\u001b[36mx\u001b[39m: \u001b[32mVariable\u001b[39m = x\n",
       "\u001b[36mx0\u001b[39m: \u001b[32mTensor\u001b[39m = FLOAT32[1]\n",
       "\u001b[36mx1\u001b[39m: \u001b[32mOutput\u001b[39m = Output(name = x/ReadVariable:0, shape = [1], dataType = FLOAT32)\n",
       "\u001b[36mx2\u001b[39m: \u001b[32mOutput\u001b[39m = Output(name = Mul:0, shape = [1], dataType = FLOAT32)\n",
       "\u001b[36mx3\u001b[39m: \u001b[32mOutput\u001b[39m = Output(name = Mul_2:0, shape = [1], dataType = FLOAT32)\n",
       "\u001b[36mx4\u001b[39m: \u001b[32mOutput\u001b[39m = Output(name = Mul_5:0, shape = [1], dataType = FLOAT32)\n",
       "\u001b[36mxTensor\u001b[39m: \u001b[32mOutput\u001b[39m = Output(name = Concatenate:0, shape = [5], dataType = FLOAT32)\n",
       "\u001b[36mweights\u001b[39m: \u001b[32mTensor\u001b[39m = FLOAT32[5]\n",
       "\u001b[36mloss\u001b[39m: \u001b[32mOutput\u001b[39m = Output(name = Sum:0, shape = [], dataType = FLOAT32)\n",
       "\u001b[36mlearningRate\u001b[39m: \u001b[32mDouble\u001b[39m = \u001b[32m0.001\u001b[39m\n",
       "\u001b[36mopt\u001b[39m: \u001b[32mOp\u001b[39m = Minimize_1/Minimize"
      ]
     },
     "execution_count": 5,
     "metadata": {},
     "output_type": "execute_result"
    }
   ],
   "source": [
    "  val initialX = 20.0f\n",
    "  val x: Variable = tf.variable(\"x\", FLOAT32, Shape(1), tf.ConstantInitializer(initialX))\n",
    "\n",
    "  val x0: Tensor = Tensor(FLOAT32, 1)\n",
    "  val x1: Output = x\n",
    "  val x2: Output = x * x\n",
    "  val x3: Output = x * x * x\n",
    "  val x4: Output = x * x * x * x\n",
    "\n",
    "  val xTensor: Output = tf.concatenate(Seq(x0, x1, x2, x3, x4))\n",
    "\n",
    "  val weights: Tensor = Tensor(FLOAT32, 1, 2, 3, -4.1, 1)\n",
    "\n",
    "  val loss: Output = tf.sum(xTensor * weights) // any ideas how to improve this using tf.matmul or dot?\n",
    "  val learningRate = 0.001\n",
    "  val opt: Op = tf.train.GradientDescent(learningRate).minimize(loss)\n"
   ]
  },
  {
   "cell_type": "code",
   "execution_count": 7,
   "metadata": {},
   "outputs": [
    {
     "data": {
      "text/plain": [
       "\u001b[36msession\u001b[39m: \u001b[32mSession\u001b[39m = org.platanios.tensorflow.api.core.client.Session@78a7586f\n",
       "\u001b[36mres6_1\u001b[39m: \u001b[32mSeq\u001b[39m[\u001b[32mcore\u001b[39m.\u001b[32mclient\u001b[39m.\u001b[32mFetchable\u001b[39m.\u001b[32moutputFetchable\u001b[39m.\u001b[32mResultType\u001b[39m] = \u001b[33mList\u001b[39m()"
      ]
     },
     "execution_count": 7,
     "metadata": {},
     "output_type": "execute_result"
    }
   ],
   "source": [
    "  val session = Session()\n",
    "  session.run(targets = tf.globalVariablesInitializer())\n"
   ]
  },
  {
   "cell_type": "code",
   "execution_count": 8,
   "metadata": {},
   "outputs": [
    {
     "name": "stdout",
     "output_type": "stream",
     "text": [
      "(0,128441.0,20.0)\n",
      "(1,4364.171,-7.2020016)\n",
      "(2,1227.542,-5.0285654)\n",
      "(3,650.18256,-4.180752)\n",
      "(4,410.67267,-3.6503832)\n",
      "(5,284.81787,-3.27201)\n",
      "(6,209.63815,-2.9825723)\n",
      "(7,160.8618,-2.7511306)\n",
      "(8,127.31546,-2.5602384)\n",
      "(9,103.214836,-2.399125)\n",
      "(10,85.30162,-2.2606983)\n",
      "(11,71.618935,-2.1400564)\n",
      "(12,60.93056,-2.0336795)\n",
      "(13,52.422882,-1.9389625)\n",
      "(14,45.54191,-1.8539273)\n",
      "(15,39.899494,-1.7770399)\n",
      "(16,35.216923,-1.7070892)\n",
      "(17,31.289768,-1.6431037)\n",
      "(18,27.965279,-1.5842936)\n",
      "(19,25.12742,-1.5300088)\n",
      "(20,22.686777,-1.4797088)\n",
      "(21,20.573517,-1.4329396)\n",
      "(22,18.732471,-1.3893172)\n",
      "(23,17.119577,-1.3485131)\n",
      "(24,15.6993065,-1.3102456)\n",
      "(25,14.442753,-1.2742708)\n",
      "(26,13.326211,-1.2403764)\n",
      "(27,12.330083,-1.2083766)\n",
      "(28,11.4380665,-1.1781085)\n",
      "(29,10.636502,-1.1494275)\n",
      "(30,9.913888,-1.122206)\n",
      "(31,9.260474,-1.0963298)\n",
      "(32,8.667954,-1.0716971)\n",
      "(33,8.129226,-1.0482165)\n",
      "(34,7.6381745,-1.0258055)\n",
      "(35,7.1895256,-1.0043899)\n",
      "(36,6.7787046,-0.9839024)\n",
      "(37,6.401728,-0.96428186)\n",
      "(38,6.0551205,-0.94547266)\n",
      "(39,5.7358294,-0.9274239)\n",
      "(40,5.4411764,-0.9100892)\n",
      "(41,5.1687956,-0.8934259)\n",
      "(42,4.9165945,-0.8773948)\n",
      "(43,4.6827154,-0.8619599)\n",
      "(44,4.4655085,-0.84708786)\n",
      "(45,4.263501,-0.83274806)\n",
      "(46,4.0753756,-0.81891197)\n",
      "(47,3.899952,-0.8055532)\n",
      "(48,3.7361717,-0.79264724)\n",
      "(49,3.5830808,-0.78017133)\n",
      "(50,3.4398193,-0.76810426)\n",
      "(51,3.3056102,-0.75642616)\n",
      "(52,3.1797497,-0.7451185)\n",
      "(53,3.0615997,-0.73416406)\n",
      "(54,2.950581,-0.72354656)\n",
      "(55,2.8461654,-0.7132508)\n",
      "(56,2.7478726,-0.70326257)\n",
      "(57,2.6552632,-0.6935684)\n",
      "(58,2.5679357,-0.6841557)\n",
      "(59,2.4855232,-0.6750126)\n",
      "(60,2.4076881,-0.66612786)\n",
      "(61,2.334121,-0.65749097)\n",
      "(62,2.2645378,-0.6490919)\n",
      "(63,2.198676,-0.64092124)\n",
      "(64,2.1362944,-0.63297)\n",
      "(65,2.0771704,-0.6252298)\n",
      "(66,2.0210981,-0.61769253)\n",
      "(67,1.9678874,-0.61035067)\n",
      "(68,1.917362,-0.603197)\n",
      "(69,1.8693583,-0.5962246)\n",
      "(70,1.823725,-0.589427)\n",
      "(71,1.7803216,-0.582798)\n",
      "(72,1.7390168,-0.5763317)\n",
      "(73,1.6996893,-0.5700224)\n",
      "(74,1.6622255,-0.5638648)\n",
      "(75,1.6265199,-0.5578538)\n",
      "(76,1.5924736,-0.5519845)\n",
      "(77,1.559995,-0.5462522)\n",
      "(78,1.5289979,-0.54065245)\n",
      "(79,1.4994019,-0.53518105)\n",
      "(80,1.4711317,-0.52983385)\n",
      "(81,1.4441168,-0.524607)\n",
      "(82,1.4182913,-0.51949674)\n",
      "(83,1.3935927,-0.5144995)\n",
      "(84,1.3699633,-0.5096118)\n",
      "(85,1.347348,-0.50483036)\n",
      "(86,1.3256959,-0.50015205)\n",
      "(87,1.3049582,-0.49557382)\n",
      "(88,1.28509,-0.49109274)\n",
      "(89,1.266048,-0.48670602)\n",
      "(90,1.2477919,-0.48241097)\n",
      "(91,1.2302837,-0.47820497)\n",
      "(92,1.2134877,-0.47408554)\n",
      "(93,1.19737,-0.4700503)\n",
      "(94,1.1818985,-0.46609694)\n",
      "(95,1.1670429,-0.4622232)\n",
      "(96,1.1527745,-0.45842695)\n",
      "(97,1.1390666,-0.4547061)\n",
      "(98,1.1258936,-0.4510587)\n",
      "(99,1.1132311,-0.44748276)\n",
      "(100,1.1010561,-0.4439765)\n"
     ]
    }
   ],
   "source": [
    "  (0 to 100).foreach { iteration =>\n",
    "    val result: Seq[Tensor] = session.run(fetches = Seq(loss, x1), targets = opt)\n",
    "    //    result.foreach(tensor => println(tensor.summarize(flattened = true)))\n",
    "    println(iteration, result(0).scalar, result(1).scalar)\n",
    "    //    val s@Seq(resultLoss, resultX) = session.run(feeds = feedMap, Seq(loss, x), opt)\n",
    "    //    println(iteration, resultX.scalar, resultLoss.scalar)\n",
    "  }"
   ]
  }
 ],
 "metadata": {
  "kernelspec": {
   "display_name": "Scala",
   "language": "scala",
   "name": "scala"
  },
  "language_info": {
   "codemirror_mode": "text/x-scala",
   "file_extension": ".scala",
   "mimetype": "text/x-scala",
   "name": "scala211",
   "nbconvert_exporter": "script",
   "pygments_lexer": "scala",
   "version": "2.11.11"
  }
 },
 "nbformat": 4,
 "nbformat_minor": 2
}
